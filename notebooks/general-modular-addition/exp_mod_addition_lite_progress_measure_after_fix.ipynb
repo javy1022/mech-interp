{
 "cells": [
  {
   "cell_type": "markdown",
   "metadata": {
    "id": "Gd-dD9YoBolq"
   },
   "source": [
    "# Setup\n"
   ]
  },
  {
   "cell_type": "code",
   "execution_count": 56,
   "metadata": {
    "colab": {
     "base_uri": "https://localhost:8080/"
    },
    "id": "NDEaTcMpf0Gi",
    "outputId": "ce00fbdb-d3b9-4641-d41c-eeef0d022bcd"
   },
   "outputs": [
    {
     "name": "stdout",
     "output_type": "stream",
     "text": [
      "Requirement already satisfied: transformer-lens in /usr/local/lib/python3.10/dist-packages (1.11.0)\n",
      "Requirement already satisfied: accelerate>=0.23.0 in /usr/local/lib/python3.10/dist-packages (from transformer-lens) (0.25.0)\n",
      "Requirement already satisfied: beartype<0.15.0,>=0.14.1 in /usr/local/lib/python3.10/dist-packages (from transformer-lens) (0.14.1)\n",
      "Requirement already satisfied: datasets>=2.7.1 in /usr/local/lib/python3.10/dist-packages (from transformer-lens) (2.15.0)\n",
      "Requirement already satisfied: einops>=0.6.0 in /usr/local/lib/python3.10/dist-packages (from transformer-lens) (0.7.0)\n",
      "Requirement already satisfied: fancy-einsum>=0.0.3 in /usr/local/lib/python3.10/dist-packages (from transformer-lens) (0.0.3)\n",
      "Requirement already satisfied: jaxtyping>=0.2.11 in /usr/local/lib/python3.10/dist-packages (from transformer-lens) (0.2.24)\n",
      "Requirement already satisfied: numpy>=1.24 in /usr/local/lib/python3.10/dist-packages (from transformer-lens) (1.26.2)\n",
      "Requirement already satisfied: nvidia-cublas-cu12>=12.1.3.1 in /usr/local/lib/python3.10/dist-packages (from transformer-lens) (12.1.3.1)\n",
      "Requirement already satisfied: nvidia-cuda-cupti-cu12>=12.1.105 in /usr/local/lib/python3.10/dist-packages (from transformer-lens) (12.1.105)\n",
      "Requirement already satisfied: nvidia-cuda-nvrtc-cu12>=12.1.105 in /usr/local/lib/python3.10/dist-packages (from transformer-lens) (12.1.105)\n",
      "Requirement already satisfied: nvidia-cuda-runtime-cu12>=12.1.105 in /usr/local/lib/python3.10/dist-packages (from transformer-lens) (12.1.105)\n",
      "Requirement already satisfied: nvidia-cudnn-cu12>=8.9.2.26 in /usr/local/lib/python3.10/dist-packages (from transformer-lens) (8.9.2.26)\n",
      "Requirement already satisfied: nvidia-cufft-cu12>=11.0.2.54 in /usr/local/lib/python3.10/dist-packages (from transformer-lens) (11.0.2.54)\n",
      "Requirement already satisfied: nvidia-curand-cu12>=10.3.2.106 in /usr/local/lib/python3.10/dist-packages (from transformer-lens) (10.3.2.106)\n",
      "Requirement already satisfied: nvidia-cusolver-cu12>=11.4.5.107 in /usr/local/lib/python3.10/dist-packages (from transformer-lens) (11.4.5.107)\n",
      "Requirement already satisfied: nvidia-cusparse-cu12>=12.1.0.106 in /usr/local/lib/python3.10/dist-packages (from transformer-lens) (12.1.0.106)\n",
      "Requirement already satisfied: nvidia-nccl-cu12>=2.18.1 in /usr/local/lib/python3.10/dist-packages (from transformer-lens) (2.18.1)\n",
      "Requirement already satisfied: nvidia-nvtx-cu12>=12.1.105 in /usr/local/lib/python3.10/dist-packages (from transformer-lens) (12.1.105)\n",
      "Requirement already satisfied: pandas>=1.1.5 in /usr/local/lib/python3.10/dist-packages (from transformer-lens) (1.5.3)\n",
      "Requirement already satisfied: rich>=12.6.0 in /usr/local/lib/python3.10/dist-packages (from transformer-lens) (13.7.0)\n",
      "Requirement already satisfied: torch!=2.0,!=2.1.0,>=1.10 in /usr/local/lib/python3.10/dist-packages (from transformer-lens) (2.1.1)\n",
      "Requirement already satisfied: tqdm>=4.64.1 in /usr/local/lib/python3.10/dist-packages (from transformer-lens) (4.66.1)\n",
      "Requirement already satisfied: transformers>=4.25.1 in /usr/local/lib/python3.10/dist-packages (from transformer-lens) (4.35.2)\n",
      "Requirement already satisfied: triton>=2.1.0 in /usr/local/lib/python3.10/dist-packages (from transformer-lens) (2.1.0)\n",
      "Requirement already satisfied: typing-extensions in /usr/local/lib/python3.10/dist-packages (from transformer-lens) (4.5.0)\n",
      "Requirement already satisfied: wandb>=0.13.5 in /usr/local/lib/python3.10/dist-packages (from transformer-lens) (0.16.1)\n",
      "Requirement already satisfied: packaging>=20.0 in /usr/local/lib/python3.10/dist-packages (from accelerate>=0.23.0->transformer-lens) (23.2)\n",
      "Requirement already satisfied: psutil in /usr/local/lib/python3.10/dist-packages (from accelerate>=0.23.0->transformer-lens) (5.9.5)\n",
      "Requirement already satisfied: pyyaml in /usr/local/lib/python3.10/dist-packages (from accelerate>=0.23.0->transformer-lens) (6.0.1)\n",
      "Requirement already satisfied: huggingface-hub in /usr/local/lib/python3.10/dist-packages (from accelerate>=0.23.0->transformer-lens) (0.19.4)\n",
      "Requirement already satisfied: safetensors>=0.3.1 in /usr/local/lib/python3.10/dist-packages (from accelerate>=0.23.0->transformer-lens) (0.4.1)\n",
      "Requirement already satisfied: pyarrow>=8.0.0 in /usr/local/lib/python3.10/dist-packages (from datasets>=2.7.1->transformer-lens) (9.0.0)\n",
      "Requirement already satisfied: pyarrow-hotfix in /usr/local/lib/python3.10/dist-packages (from datasets>=2.7.1->transformer-lens) (0.6)\n",
      "Requirement already satisfied: dill<0.3.8,>=0.3.0 in /usr/local/lib/python3.10/dist-packages (from datasets>=2.7.1->transformer-lens) (0.3.7)\n",
      "Requirement already satisfied: requests>=2.19.0 in /usr/local/lib/python3.10/dist-packages (from datasets>=2.7.1->transformer-lens) (2.31.0)\n",
      "Requirement already satisfied: xxhash in /usr/local/lib/python3.10/dist-packages (from datasets>=2.7.1->transformer-lens) (3.4.1)\n",
      "Requirement already satisfied: multiprocess in /usr/local/lib/python3.10/dist-packages (from datasets>=2.7.1->transformer-lens) (0.70.15)\n",
      "Requirement already satisfied: fsspec[http]<=2023.10.0,>=2023.1.0 in /usr/local/lib/python3.10/dist-packages (from datasets>=2.7.1->transformer-lens) (2023.6.0)\n",
      "Requirement already satisfied: aiohttp in /usr/local/lib/python3.10/dist-packages (from datasets>=2.7.1->transformer-lens) (3.9.1)\n",
      "Requirement already satisfied: typeguard<3,>=2.13.3 in /usr/local/lib/python3.10/dist-packages (from jaxtyping>=0.2.11->transformer-lens) (2.13.3)\n",
      "Requirement already satisfied: nvidia-nvjitlink-cu12 in /usr/local/lib/python3.10/dist-packages (from nvidia-cusolver-cu12>=11.4.5.107->transformer-lens) (12.3.101)\n",
      "Requirement already satisfied: python-dateutil>=2.8.1 in /usr/local/lib/python3.10/dist-packages (from pandas>=1.1.5->transformer-lens) (2.8.2)\n",
      "Requirement already satisfied: pytz>=2020.1 in /usr/local/lib/python3.10/dist-packages (from pandas>=1.1.5->transformer-lens) (2023.3.post1)\n",
      "Requirement already satisfied: markdown-it-py>=2.2.0 in /usr/local/lib/python3.10/dist-packages (from rich>=12.6.0->transformer-lens) (3.0.0)\n",
      "Requirement already satisfied: pygments<3.0.0,>=2.13.0 in /usr/local/lib/python3.10/dist-packages (from rich>=12.6.0->transformer-lens) (2.16.1)\n",
      "Requirement already satisfied: filelock in /usr/local/lib/python3.10/dist-packages (from torch!=2.0,!=2.1.0,>=1.10->transformer-lens) (3.13.1)\n",
      "Requirement already satisfied: sympy in /usr/local/lib/python3.10/dist-packages (from torch!=2.0,!=2.1.0,>=1.10->transformer-lens) (1.12)\n",
      "Requirement already satisfied: networkx in /usr/local/lib/python3.10/dist-packages (from torch!=2.0,!=2.1.0,>=1.10->transformer-lens) (3.2.1)\n",
      "Requirement already satisfied: jinja2 in /usr/local/lib/python3.10/dist-packages (from torch!=2.0,!=2.1.0,>=1.10->transformer-lens) (3.1.2)\n",
      "Requirement already satisfied: regex!=2019.12.17 in /usr/local/lib/python3.10/dist-packages (from transformers>=4.25.1->transformer-lens) (2023.6.3)\n",
      "Requirement already satisfied: tokenizers<0.19,>=0.14 in /usr/local/lib/python3.10/dist-packages (from transformers>=4.25.1->transformer-lens) (0.15.0)\n",
      "Requirement already satisfied: Click!=8.0.0,>=7.1 in /usr/local/lib/python3.10/dist-packages (from wandb>=0.13.5->transformer-lens) (8.1.7)\n",
      "Requirement already satisfied: GitPython!=3.1.29,>=1.0.0 in /usr/local/lib/python3.10/dist-packages (from wandb>=0.13.5->transformer-lens) (3.1.40)\n",
      "Requirement already satisfied: sentry-sdk>=1.0.0 in /usr/local/lib/python3.10/dist-packages (from wandb>=0.13.5->transformer-lens) (1.38.0)\n",
      "Requirement already satisfied: docker-pycreds>=0.4.0 in /usr/local/lib/python3.10/dist-packages (from wandb>=0.13.5->transformer-lens) (0.4.0)\n",
      "Requirement already satisfied: setproctitle in /usr/local/lib/python3.10/dist-packages (from wandb>=0.13.5->transformer-lens) (1.3.3)\n",
      "Requirement already satisfied: setuptools in /usr/local/lib/python3.10/dist-packages (from wandb>=0.13.5->transformer-lens) (67.7.2)\n",
      "Requirement already satisfied: appdirs>=1.4.3 in /usr/local/lib/python3.10/dist-packages (from wandb>=0.13.5->transformer-lens) (1.4.4)\n",
      "Requirement already satisfied: protobuf!=4.21.0,<5,>=3.19.0 in /usr/local/lib/python3.10/dist-packages (from wandb>=0.13.5->transformer-lens) (3.20.3)\n",
      "Requirement already satisfied: six>=1.4.0 in /usr/local/lib/python3.10/dist-packages (from docker-pycreds>=0.4.0->wandb>=0.13.5->transformer-lens) (1.16.0)\n",
      "Requirement already satisfied: attrs>=17.3.0 in /usr/local/lib/python3.10/dist-packages (from aiohttp->datasets>=2.7.1->transformer-lens) (23.1.0)\n",
      "Requirement already satisfied: multidict<7.0,>=4.5 in /usr/local/lib/python3.10/dist-packages (from aiohttp->datasets>=2.7.1->transformer-lens) (6.0.4)\n",
      "Requirement already satisfied: yarl<2.0,>=1.0 in /usr/local/lib/python3.10/dist-packages (from aiohttp->datasets>=2.7.1->transformer-lens) (1.9.3)\n",
      "Requirement already satisfied: frozenlist>=1.1.1 in /usr/local/lib/python3.10/dist-packages (from aiohttp->datasets>=2.7.1->transformer-lens) (1.4.0)\n",
      "Requirement already satisfied: aiosignal>=1.1.2 in /usr/local/lib/python3.10/dist-packages (from aiohttp->datasets>=2.7.1->transformer-lens) (1.3.1)\n",
      "Requirement already satisfied: async-timeout<5.0,>=4.0 in /usr/local/lib/python3.10/dist-packages (from aiohttp->datasets>=2.7.1->transformer-lens) (4.0.3)\n",
      "Requirement already satisfied: gitdb<5,>=4.0.1 in /usr/local/lib/python3.10/dist-packages (from GitPython!=3.1.29,>=1.0.0->wandb>=0.13.5->transformer-lens) (4.0.11)\n",
      "Requirement already satisfied: mdurl~=0.1 in /usr/local/lib/python3.10/dist-packages (from markdown-it-py>=2.2.0->rich>=12.6.0->transformer-lens) (0.1.2)\n",
      "Requirement already satisfied: charset-normalizer<4,>=2 in /usr/local/lib/python3.10/dist-packages (from requests>=2.19.0->datasets>=2.7.1->transformer-lens) (3.3.2)\n",
      "Requirement already satisfied: idna<4,>=2.5 in /usr/local/lib/python3.10/dist-packages (from requests>=2.19.0->datasets>=2.7.1->transformer-lens) (3.6)\n",
      "Requirement already satisfied: urllib3<3,>=1.21.1 in /usr/local/lib/python3.10/dist-packages (from requests>=2.19.0->datasets>=2.7.1->transformer-lens) (2.0.7)\n",
      "Requirement already satisfied: certifi>=2017.4.17 in /usr/local/lib/python3.10/dist-packages (from requests>=2.19.0->datasets>=2.7.1->transformer-lens) (2023.11.17)\n",
      "Requirement already satisfied: MarkupSafe>=2.0 in /usr/local/lib/python3.10/dist-packages (from jinja2->torch!=2.0,!=2.1.0,>=1.10->transformer-lens) (2.1.3)\n",
      "Requirement already satisfied: mpmath>=0.19 in /usr/local/lib/python3.10/dist-packages (from sympy->torch!=2.0,!=2.1.0,>=1.10->transformer-lens) (1.3.0)\n",
      "Requirement already satisfied: smmap<6,>=3.0.1 in /usr/local/lib/python3.10/dist-packages (from gitdb<5,>=4.0.1->GitPython!=3.1.29,>=1.0.0->wandb>=0.13.5->transformer-lens) (5.0.1)\n",
      "Requirement already satisfied: fancy_einsum in /usr/local/lib/python3.10/dist-packages (0.0.3)\n",
      "Requirement already satisfied: datasets in /usr/local/lib/python3.10/dist-packages (2.15.0)\n",
      "Requirement already satisfied: numpy>=1.17 in /usr/local/lib/python3.10/dist-packages (from datasets) (1.26.2)\n",
      "Requirement already satisfied: pyarrow>=8.0.0 in /usr/local/lib/python3.10/dist-packages (from datasets) (9.0.0)\n",
      "Requirement already satisfied: pyarrow-hotfix in /usr/local/lib/python3.10/dist-packages (from datasets) (0.6)\n",
      "Requirement already satisfied: dill<0.3.8,>=0.3.0 in /usr/local/lib/python3.10/dist-packages (from datasets) (0.3.7)\n",
      "Requirement already satisfied: pandas in /usr/local/lib/python3.10/dist-packages (from datasets) (1.5.3)\n",
      "Requirement already satisfied: requests>=2.19.0 in /usr/local/lib/python3.10/dist-packages (from datasets) (2.31.0)\n",
      "Requirement already satisfied: tqdm>=4.62.1 in /usr/local/lib/python3.10/dist-packages (from datasets) (4.66.1)\n",
      "Requirement already satisfied: xxhash in /usr/local/lib/python3.10/dist-packages (from datasets) (3.4.1)\n",
      "Requirement already satisfied: multiprocess in /usr/local/lib/python3.10/dist-packages (from datasets) (0.70.15)\n",
      "Requirement already satisfied: fsspec[http]<=2023.10.0,>=2023.1.0 in /usr/local/lib/python3.10/dist-packages (from datasets) (2023.6.0)\n",
      "Requirement already satisfied: aiohttp in /usr/local/lib/python3.10/dist-packages (from datasets) (3.9.1)\n",
      "Requirement already satisfied: huggingface-hub>=0.18.0 in /usr/local/lib/python3.10/dist-packages (from datasets) (0.19.4)\n",
      "Requirement already satisfied: packaging in /usr/local/lib/python3.10/dist-packages (from datasets) (23.2)\n",
      "Requirement already satisfied: pyyaml>=5.1 in /usr/local/lib/python3.10/dist-packages (from datasets) (6.0.1)\n",
      "Requirement already satisfied: attrs>=17.3.0 in /usr/local/lib/python3.10/dist-packages (from aiohttp->datasets) (23.1.0)\n",
      "Requirement already satisfied: multidict<7.0,>=4.5 in /usr/local/lib/python3.10/dist-packages (from aiohttp->datasets) (6.0.4)\n",
      "Requirement already satisfied: yarl<2.0,>=1.0 in /usr/local/lib/python3.10/dist-packages (from aiohttp->datasets) (1.9.3)\n",
      "Requirement already satisfied: frozenlist>=1.1.1 in /usr/local/lib/python3.10/dist-packages (from aiohttp->datasets) (1.4.0)\n",
      "Requirement already satisfied: aiosignal>=1.1.2 in /usr/local/lib/python3.10/dist-packages (from aiohttp->datasets) (1.3.1)\n",
      "Requirement already satisfied: async-timeout<5.0,>=4.0 in /usr/local/lib/python3.10/dist-packages (from aiohttp->datasets) (4.0.3)\n",
      "Requirement already satisfied: filelock in /usr/local/lib/python3.10/dist-packages (from huggingface-hub>=0.18.0->datasets) (3.13.1)\n",
      "Requirement already satisfied: typing-extensions>=3.7.4.3 in /usr/local/lib/python3.10/dist-packages (from huggingface-hub>=0.18.0->datasets) (4.5.0)\n",
      "Requirement already satisfied: charset-normalizer<4,>=2 in /usr/local/lib/python3.10/dist-packages (from requests>=2.19.0->datasets) (3.3.2)\n",
      "Requirement already satisfied: idna<4,>=2.5 in /usr/local/lib/python3.10/dist-packages (from requests>=2.19.0->datasets) (3.6)\n",
      "Requirement already satisfied: urllib3<3,>=1.21.1 in /usr/local/lib/python3.10/dist-packages (from requests>=2.19.0->datasets) (2.0.7)\n",
      "Requirement already satisfied: certifi>=2017.4.17 in /usr/local/lib/python3.10/dist-packages (from requests>=2.19.0->datasets) (2023.11.17)\n",
      "Requirement already satisfied: python-dateutil>=2.8.1 in /usr/local/lib/python3.10/dist-packages (from pandas->datasets) (2.8.2)\n",
      "Requirement already satisfied: pytz>=2020.1 in /usr/local/lib/python3.10/dist-packages (from pandas->datasets) (2023.3.post1)\n",
      "Requirement already satisfied: six>=1.5 in /usr/local/lib/python3.10/dist-packages (from python-dateutil>=2.8.1->pandas->datasets) (1.16.0)\n",
      "Collecting git+https://github.com/neelnanda-io/neel-plotly\n",
      "  Cloning https://github.com/neelnanda-io/neel-plotly to /tmp/pip-req-build-k2o8lz11\n",
      "  Running command git clone --filter=blob:none --quiet https://github.com/neelnanda-io/neel-plotly /tmp/pip-req-build-k2o8lz11\n",
      "  Resolved https://github.com/neelnanda-io/neel-plotly to commit 6dc24b26f8dec991908479d7445dae496b3430b7\n",
      "  Preparing metadata (setup.py) ... \u001b[?25l\u001b[?25hdone\n",
      "Requirement already satisfied: einops in /usr/local/lib/python3.10/dist-packages (from neel-plotly==0.0.0) (0.7.0)\n",
      "Requirement already satisfied: numpy in /usr/local/lib/python3.10/dist-packages (from neel-plotly==0.0.0) (1.26.2)\n",
      "Requirement already satisfied: torch in /usr/local/lib/python3.10/dist-packages (from neel-plotly==0.0.0) (2.1.1)\n",
      "Requirement already satisfied: plotly in /usr/local/lib/python3.10/dist-packages (from neel-plotly==0.0.0) (5.15.0)\n",
      "Requirement already satisfied: tqdm in /usr/local/lib/python3.10/dist-packages (from neel-plotly==0.0.0) (4.66.1)\n",
      "Requirement already satisfied: pandas in /usr/local/lib/python3.10/dist-packages (from neel-plotly==0.0.0) (1.5.3)\n",
      "Requirement already satisfied: python-dateutil>=2.8.1 in /usr/local/lib/python3.10/dist-packages (from pandas->neel-plotly==0.0.0) (2.8.2)\n",
      "Requirement already satisfied: pytz>=2020.1 in /usr/local/lib/python3.10/dist-packages (from pandas->neel-plotly==0.0.0) (2023.3.post1)\n",
      "Requirement already satisfied: tenacity>=6.2.0 in /usr/local/lib/python3.10/dist-packages (from plotly->neel-plotly==0.0.0) (8.2.3)\n",
      "Requirement already satisfied: packaging in /usr/local/lib/python3.10/dist-packages (from plotly->neel-plotly==0.0.0) (23.2)\n",
      "Requirement already satisfied: filelock in /usr/local/lib/python3.10/dist-packages (from torch->neel-plotly==0.0.0) (3.13.1)\n",
      "Requirement already satisfied: typing-extensions in /usr/local/lib/python3.10/dist-packages (from torch->neel-plotly==0.0.0) (4.5.0)\n",
      "Requirement already satisfied: sympy in /usr/local/lib/python3.10/dist-packages (from torch->neel-plotly==0.0.0) (1.12)\n",
      "Requirement already satisfied: networkx in /usr/local/lib/python3.10/dist-packages (from torch->neel-plotly==0.0.0) (3.2.1)\n",
      "Requirement already satisfied: jinja2 in /usr/local/lib/python3.10/dist-packages (from torch->neel-plotly==0.0.0) (3.1.2)\n",
      "Requirement already satisfied: fsspec in /usr/local/lib/python3.10/dist-packages (from torch->neel-plotly==0.0.0) (2023.6.0)\n",
      "Requirement already satisfied: nvidia-cuda-nvrtc-cu12==12.1.105 in /usr/local/lib/python3.10/dist-packages (from torch->neel-plotly==0.0.0) (12.1.105)\n",
      "Requirement already satisfied: nvidia-cuda-runtime-cu12==12.1.105 in /usr/local/lib/python3.10/dist-packages (from torch->neel-plotly==0.0.0) (12.1.105)\n",
      "Requirement already satisfied: nvidia-cuda-cupti-cu12==12.1.105 in /usr/local/lib/python3.10/dist-packages (from torch->neel-plotly==0.0.0) (12.1.105)\n",
      "Requirement already satisfied: nvidia-cudnn-cu12==8.9.2.26 in /usr/local/lib/python3.10/dist-packages (from torch->neel-plotly==0.0.0) (8.9.2.26)\n",
      "Requirement already satisfied: nvidia-cublas-cu12==12.1.3.1 in /usr/local/lib/python3.10/dist-packages (from torch->neel-plotly==0.0.0) (12.1.3.1)\n",
      "Requirement already satisfied: nvidia-cufft-cu12==11.0.2.54 in /usr/local/lib/python3.10/dist-packages (from torch->neel-plotly==0.0.0) (11.0.2.54)\n",
      "Requirement already satisfied: nvidia-curand-cu12==10.3.2.106 in /usr/local/lib/python3.10/dist-packages (from torch->neel-plotly==0.0.0) (10.3.2.106)\n",
      "Requirement already satisfied: nvidia-cusolver-cu12==11.4.5.107 in /usr/local/lib/python3.10/dist-packages (from torch->neel-plotly==0.0.0) (11.4.5.107)\n",
      "Requirement already satisfied: nvidia-cusparse-cu12==12.1.0.106 in /usr/local/lib/python3.10/dist-packages (from torch->neel-plotly==0.0.0) (12.1.0.106)\n",
      "Requirement already satisfied: nvidia-nccl-cu12==2.18.1 in /usr/local/lib/python3.10/dist-packages (from torch->neel-plotly==0.0.0) (2.18.1)\n",
      "Requirement already satisfied: nvidia-nvtx-cu12==12.1.105 in /usr/local/lib/python3.10/dist-packages (from torch->neel-plotly==0.0.0) (12.1.105)\n",
      "Requirement already satisfied: triton==2.1.0 in /usr/local/lib/python3.10/dist-packages (from torch->neel-plotly==0.0.0) (2.1.0)\n",
      "Requirement already satisfied: nvidia-nvjitlink-cu12 in /usr/local/lib/python3.10/dist-packages (from nvidia-cusolver-cu12==11.4.5.107->torch->neel-plotly==0.0.0) (12.3.101)\n",
      "Requirement already satisfied: six>=1.5 in /usr/local/lib/python3.10/dist-packages (from python-dateutil>=2.8.1->pandas->neel-plotly==0.0.0) (1.16.0)\n",
      "Requirement already satisfied: MarkupSafe>=2.0 in /usr/local/lib/python3.10/dist-packages (from jinja2->torch->neel-plotly==0.0.0) (2.1.3)\n",
      "Requirement already satisfied: mpmath>=0.19 in /usr/local/lib/python3.10/dist-packages (from sympy->torch->neel-plotly==0.0.0) (1.3.0)\n"
     ]
    }
   ],
   "source": [
    "!pip install transformer-lens\n",
    "!pip install fancy_einsum\n",
    "!pip install datasets\n",
    "!pip install git+https://github.com/neelnanda-io/neel-plotly"
   ]
  },
  {
   "cell_type": "code",
   "execution_count": 57,
   "metadata": {
    "id": "1oIbXQTHBolr"
   },
   "outputs": [],
   "source": [
    "import google.colab\n",
    "IN_COLAB = True\n",
    "TRAIN_MODEL = True"
   ]
  },
  {
   "cell_type": "code",
   "execution_count": 58,
   "metadata": {
    "id": "bnVdTtyGBolu"
   },
   "outputs": [],
   "source": [
    "import plotly.io as pio\n",
    "pio.renderers.default = \"colab\"\n",
    "pio.templates['plotly'].layout.xaxis.title.font.size = 20\n",
    "pio.templates['plotly'].layout.yaxis.title.font.size = 20\n",
    "pio.templates['plotly'].layout.title.font.size = 30\n",
    "\n",
    "def imshow(tensor, renderer=None, xaxis=\"\", yaxis=\"\", **kwargs):\n",
    "    px.imshow(utils.to_numpy(tensor), color_continuous_midpoint=0.0, color_continuous_scale=\"RdBu\", labels={\"x\":xaxis, \"y\":yaxis}, **kwargs).show(renderer)\n",
    "\n",
    "def line(tensor, renderer=None, xaxis=\"\", yaxis=\"\", **kwargs):\n",
    "    px.line(utils.to_numpy(tensor), labels={\"x\":xaxis, \"y\":yaxis}, **kwargs).show(renderer)\n",
    "\n",
    "def scatter(x, y, xaxis=\"\", yaxis=\"\", caxis=\"\", renderer=None, **kwargs):\n",
    "    x = utils.to_numpy(x)\n",
    "    y = utils.to_numpy(y)\n",
    "    px.scatter(y=y, x=x, labels={\"x\":xaxis, \"y\":yaxis, \"color\":caxis}, **kwargs).show(renderer)\n",
    "\n",
    "def add_lines(figure):\n",
    "    figure.add_vline(memorization_end_epoch, line_dash=\"dash\", opacity=0.7)\n",
    "    figure.add_vline(circuit_formation_end_epoch, line_dash=\"dash\", opacity=0.7)\n",
    "    figure.add_vline(cleanup_end_epoch, line_dash=\"dash\", opacity=0.7)\n",
    "    return figure"
   ]
  },
  {
   "cell_type": "code",
   "execution_count": 59,
   "metadata": {
    "id": "6AhG_kr4Bolu"
   },
   "outputs": [],
   "source": [
    "import torch\n",
    "import torch.nn as nn\n",
    "import torch.nn.functional as F\n",
    "import torch.optim as optim\n",
    "import numpy as np\n",
    "import einops\n",
    "from fancy_einsum import einsum\n",
    "import tqdm.auto as tqdm\n",
    "import random\n",
    "from pathlib import Path\n",
    "import plotly.express as px\n",
    "from torch.utils.data import DataLoader\n",
    "\n",
    "from typing import List, Union, Optional\n",
    "from functools import partial\n",
    "import copy\n",
    "\n",
    "import itertools\n",
    "from transformers import AutoModelForCausalLM, AutoConfig, AutoTokenizer\n",
    "import dataclasses\n",
    "import datasets\n",
    "from IPython.display import HTML\n",
    "import wandb\n",
    "\n",
    "import transformer_lens\n",
    "import transformer_lens.utils as utils\n",
    "from transformer_lens.hook_points import (\n",
    "    HookedRootModule,\n",
    "    HookPoint,\n",
    ")\n",
    "from transformer_lens import HookedTransformer, HookedTransformerConfig, FactoredMatrix, ActivationCache"
   ]
  },
  {
   "cell_type": "code",
   "execution_count": 60,
   "metadata": {
    "colab": {
     "base_uri": "https://localhost:8080/"
    },
    "id": "8UkN8NeoDghv",
    "outputId": "4e7032f7-adbd-4e46-d224-1f64541e7071"
   },
   "outputs": [
    {
     "name": "stdout",
     "output_type": "stream",
     "text": [
      "\u001b[34m\u001b[1mwandb\u001b[0m: Logging into wandb.ai. (Learn how to deploy a W&B server locally: https://wandb.me/wandb-server)\n",
      "\u001b[34m\u001b[1mwandb\u001b[0m: You can find your API key in your browser here: https://wandb.ai/authorize\n",
      "\u001b[34m\u001b[1mwandb\u001b[0m: Paste an API key from your profile and hit enter, or press ctrl+c to quit: \n",
      "\u001b[34m\u001b[1mwandb\u001b[0m: Appending key for api.wandb.ai to your netrc file: /root/.netrc\n"
     ]
    }
   ],
   "source": [
    "!wandb login --relogin\n",
    "  # API key : 4b767df1f5ebd790345e45531f8c5196675c1c07"
   ]
  },
  {
   "cell_type": "markdown",
   "metadata": {
    "id": "8UnYBertBolw"
   },
   "source": [
    "# Model Training"
   ]
  },
  {
   "cell_type": "markdown",
   "metadata": {
    "id": "yAan3HQ6Bolw"
   },
   "source": [
    "## Config"
   ]
  },
  {
   "cell_type": "code",
   "execution_count": 61,
   "metadata": {
    "id": "afq7d_anBolw"
   },
   "outputs": [],
   "source": [
    "p = 113\n",
    "frac_train = 0.3\n",
    "\n",
    "# Optimizer config\n",
    "lr = 1e-3\n",
    "wd = 1.\n",
    "betas = (0.9, 0.98)\n",
    "\n",
    "num_epochs = 25000\n",
    "checkpoint_every = 100\n",
    "\n",
    "DATA_SEED = 598"
   ]
  },
  {
   "cell_type": "markdown",
   "metadata": {
    "id": "5GJV8EMbBolw"
   },
   "source": [
    "## Define Task\n",
    "(a^m + b^n) mod 113"
   ]
  },
  {
   "cell_type": "code",
   "execution_count": 62,
   "metadata": {
    "id": "9EoYrxMxvy-z"
   },
   "outputs": [],
   "source": [
    "m= 2\n",
    "n= 2"
   ]
  },
  {
   "cell_type": "markdown",
   "metadata": {
    "id": "lvEMUmkqBolw"
   },
   "source": [
    "Input format:\n",
    "|a|b|=|"
   ]
  },
  {
   "cell_type": "code",
   "execution_count": 63,
   "metadata": {
    "id": "GqWf_TfRBolw"
   },
   "outputs": [],
   "source": [
    "a_vector = einops.repeat(torch.arange(p), \"i -> (i j)\", j=p)\n",
    "b_vector = einops.repeat(torch.arange(p), \"j -> (i j)\", i=p)\n",
    "equals_vector = einops.repeat(torch.tensor(113), \" -> (i j)\", i=p, j=p)\n",
    "\n",
    "dataset = torch.stack([a_vector, b_vector, equals_vector], dim=1)\n",
    "labels = (dataset[:, 0]**m + dataset[:, 1]**n) % p\n",
    "labels = labels.to('cuda')"
   ]
  },
  {
   "cell_type": "markdown",
   "metadata": {
    "id": "onPtyCdyBolx"
   },
   "source": [
    "Convert this to a train + test set - 30% in the training set"
   ]
  },
  {
   "cell_type": "code",
   "execution_count": 64,
   "metadata": {
    "colab": {
     "base_uri": "https://localhost:8080/"
    },
    "id": "t83Xh3j-Bolx",
    "outputId": "dd8786ae-6357-4a07-9222-ed215dd7395d"
   },
   "outputs": [
    {
     "name": "stdout",
     "output_type": "stream",
     "text": [
      "tensor([[ 21,  31, 113],\n",
      "        [ 30,  98, 113],\n",
      "        [ 47,  10, 113],\n",
      "        [ 86,  21, 113],\n",
      "        [ 99,  83, 113]], device='cuda:0')\n",
      "tensor([ 46, 108,  49,  40,  79], device='cuda:0')\n",
      "torch.Size([3830, 3])\n",
      "tensor([[ 43,  40, 113],\n",
      "        [ 31,  42, 113],\n",
      "        [ 39,  63, 113],\n",
      "        [ 35,  61, 113],\n",
      "        [112, 102, 113]], device='cuda:0')\n",
      "tensor([59, 13, 66, 87,  9], device='cuda:0')\n",
      "torch.Size([8939, 3])\n"
     ]
    }
   ],
   "source": [
    "torch.manual_seed(DATA_SEED)\n",
    "indices = torch.randperm(p*p)\n",
    "cutoff = int(p*p*frac_train)\n",
    "train_indices = indices[:cutoff]\n",
    "test_indices = indices[cutoff:]\n",
    "\n",
    "train_data = dataset[train_indices]\n",
    "train_labels = labels[train_indices]\n",
    "test_data = dataset[test_indices]\n",
    "test_labels = labels[test_indices]\n",
    "\n",
    "train_data = train_data.to('cuda')\n",
    "train_labels = train_labels.to('cuda')\n",
    "test_data = test_data.to('cuda')\n",
    "test_labels = test_labels.to('cuda')\n",
    "\n",
    "print(train_data[:5])\n",
    "print(train_labels[:5])\n",
    "print(train_data.shape)\n",
    "print(test_data[:5])\n",
    "print(test_labels[:5])\n",
    "print(test_data.shape)"
   ]
  },
  {
   "cell_type": "markdown",
   "metadata": {
    "id": "knj6Ht-PBolx"
   },
   "source": [
    "## Define Model"
   ]
  },
  {
   "cell_type": "code",
   "execution_count": 65,
   "metadata": {
    "id": "G8xI7nVJBolx"
   },
   "outputs": [],
   "source": [
    "cfg = HookedTransformerConfig(\n",
    "    n_layers = 1,\n",
    "    n_heads = 4,\n",
    "    d_model = 128,\n",
    "    d_head = 32,\n",
    "    d_mlp = 512,\n",
    "    act_fn = \"relu\",\n",
    "    normalization_type=None,\n",
    "    d_vocab=p+1,\n",
    "    d_vocab_out=p,\n",
    "    n_ctx=3,\n",
    "    init_weights=True,\n",
    "    device=\"cuda\",\n",
    "    n_devices=1,\n",
    "    seed = 999,\n",
    ")\n",
    "\n",
    "model = HookedTransformer(cfg)"
   ]
  },
  {
   "cell_type": "markdown",
   "metadata": {
    "id": "OpmPFzIwBolx"
   },
   "source": [
    "Disable the biases, as we don't need them for this task and it makes things easier to interpret."
   ]
  },
  {
   "cell_type": "code",
   "execution_count": 66,
   "metadata": {
    "id": "FnXGAjscBolx"
   },
   "outputs": [],
   "source": [
    "for name, param in model.named_parameters():\n",
    "    if \"b_\" in name:\n",
    "        param.requires_grad = False"
   ]
  },
  {
   "cell_type": "markdown",
   "metadata": {
    "id": "BAZyXt3wBolx"
   },
   "source": [
    "## Define Optimizer + Loss"
   ]
  },
  {
   "cell_type": "code",
   "execution_count": 67,
   "metadata": {
    "id": "h9qPR2dyBolx"
   },
   "outputs": [],
   "source": [
    "optimizer = torch.optim.AdamW(model.parameters(), lr=lr, weight_decay=wd, betas=betas)"
   ]
  },
  {
   "cell_type": "code",
   "execution_count": 68,
   "metadata": {
    "colab": {
     "base_uri": "https://localhost:8080/"
    },
    "id": "CPNnUcD2Bolx",
    "outputId": "b5613cbd-3a14-4582-eade-e9f2ad442fe6"
   },
   "outputs": [
    {
     "name": "stdout",
     "output_type": "stream",
     "text": [
      "tensor(4.7344, device='cuda:0', dtype=torch.float64, grad_fn=<NegBackward0>)\n",
      "tensor(4.7330, device='cuda:0', dtype=torch.float64, grad_fn=<NegBackward0>)\n",
      "Uniform loss:\n",
      "4.727387818712341\n"
     ]
    }
   ],
   "source": [
    "def loss_fn(logits, labels):\n",
    "    if len(logits.shape)==3:\n",
    "        logits = logits[:, -1]\n",
    "    logits = logits.to(torch.float64).to('cuda:0')\n",
    "    log_probs = logits.log_softmax(dim=-1).to('cuda:0')\n",
    "    correct_log_probs = log_probs.gather(dim=-1, index=labels[:, None])[:, 0]\n",
    "    return -correct_log_probs.mean()\n",
    "train_logits = model(train_data).to('cuda:0')\n",
    "train_labels = train_labels.to('cuda:0')\n",
    "train_loss = loss_fn(train_logits, train_labels)\n",
    "print(train_loss)\n",
    "test_logits = model(test_data)\n",
    "test_loss = loss_fn(test_logits, test_labels)\n",
    "print(test_loss)\n",
    "print(\"Uniform loss:\")\n",
    "print(np.log(p))"
   ]
  },
  {
   "cell_type": "markdown",
   "metadata": {
    "id": "6AgFEhbkBoly"
   },
   "source": [
    "## Training with full batch"
   ]
  },
  {
   "cell_type": "code",
   "execution_count": 70,
   "metadata": {
    "colab": {
     "base_uri": "https://localhost:8080/",
     "height": 1000,
     "referenced_widgets": [
      "6da9c8bf355d4a33befc71bd8a6beded",
      "b717046101184a72b2b403545e69e986",
      "3bdaac1f2f5b48659a33f7d47758cdce",
      "bb80c5245f244b12962f095eab7da612",
      "ffcdffa53e45494591c1d28f78118bb6",
      "ce8c507d5bb344eebafb676c7fe3fd55",
      "da18c6adac354c92b18e75a116d1259b",
      "8b5bc4c82831447185581a649b7feb24",
      "27490e7facaa4d7c86dff493bab717fc",
      "f8391df67bff49718d8d4730831e334e",
      "dcd78d99a30446afb58a620ce0462b2e",
      "cddb46a940b84ac29b8257548fb392b6",
      "0997987684744ceca99c6843ed0aafb4",
      "4da152588fb4417ba142a07e1bcd0b17",
      "be20a728c7ca450e8c944546b3f49768",
      "9157e4b7447c4dbc990402709fe6df22",
      "3249b5f8f7fb47938ef13e54534d5ec8",
      "825390c7e5364c87907fed19c4369727",
      "3dfa73806db8462a88d35ff985ab5e66"
     ]
    },
    "id": "5aQ60ml6Boly",
    "outputId": "e0fdb49b-8a7a-40fc-e14e-47081d854781"
   },
   "outputs": [
    {
     "data": {
      "text/html": [
       "Finishing last run (ID:21xbtbai) before initializing another..."
      ],
      "text/plain": [
       "<IPython.core.display.HTML object>"
      ]
     },
     "metadata": {},
     "output_type": "display_data"
    },
    {
     "data": {
      "application/vnd.jupyter.widget-view+json": {
       "model_id": "6da9c8bf355d4a33befc71bd8a6beded",
       "version_major": 2,
       "version_minor": 0
      },
      "text/plain": [
       "VBox(children=(Label(value='0.001 MB of 0.001 MB uploaded\\r'), FloatProgress(value=1.0, max=1.0)))"
      ]
     },
     "metadata": {},
     "output_type": "display_data"
    },
    {
     "data": {
      "text/html": [
       "<style>\n",
       "    table.wandb td:nth-child(1) { padding: 0 10px; text-align: left ; width: auto;} td:nth-child(2) {text-align: left ; width: 100%}\n",
       "    .wandb-row { display: flex; flex-direction: row; flex-wrap: wrap; justify-content: flex-start; width: 100% }\n",
       "    .wandb-col { display: flex; flex-direction: column; flex-basis: 100%; flex: 1; padding: 10px; }\n",
       "    </style>\n",
       "<div class=\"wandb-row\"><div class=\"wandb-col\"><h3>Run history:</h3><br/><table class=\"wandb\"><tr><td>test_loss</td><td>█▇▆▆▅▅▅▅▅▄▄▄▄▃▃▃▃▃▂▂▂▂▂▂▂▁▁▁▁▁▁▁▁▁▁▁▁▁▁▁</td></tr><tr><td>train_loss</td><td>█▁▁▁▁▁▁▁▁▁▁▁▁▁▁▁▁▁▁▁▁▁▁▁▁▁▁▁▁▁▁▁▁▁▁▁▁▁▁▁</td></tr></table><br/></div><div class=\"wandb-col\"><h3>Run summary:</h3><br/><table class=\"wandb\"><tr><td>test_loss</td><td>0.00317</td></tr><tr><td>train_loss</td><td>0.0</td></tr></table><br/></div></div>"
      ],
      "text/plain": [
       "<IPython.core.display.HTML object>"
      ]
     },
     "metadata": {},
     "output_type": "display_data"
    },
    {
     "data": {
      "text/html": [
       " View run <strong style=\"color:#cdcd00\">n2_m2</strong> at: <a href='https://wandb.ai/mech-interp/che-de-moivre/runs/21xbtbai' target=\"_blank\">https://wandb.ai/mech-interp/che-de-moivre/runs/21xbtbai</a><br/>Synced 5 W&B file(s), 0 media file(s), 0 artifact file(s) and 0 other file(s)"
      ],
      "text/plain": [
       "<IPython.core.display.HTML object>"
      ]
     },
     "metadata": {},
     "output_type": "display_data"
    },
    {
     "data": {
      "text/html": [
       "Find logs at: <code>./wandb/run-20231208_210432-21xbtbai/logs</code>"
      ],
      "text/plain": [
       "<IPython.core.display.HTML object>"
      ]
     },
     "metadata": {},
     "output_type": "display_data"
    },
    {
     "data": {
      "text/html": [
       "Successfully finished last run (ID:21xbtbai). Initializing new run:<br/>"
      ],
      "text/plain": [
       "<IPython.core.display.HTML object>"
      ]
     },
     "metadata": {},
     "output_type": "display_data"
    },
    {
     "data": {
      "text/html": [
       "Tracking run with wandb version 0.16.1"
      ],
      "text/plain": [
       "<IPython.core.display.HTML object>"
      ]
     },
     "metadata": {},
     "output_type": "display_data"
    },
    {
     "data": {
      "text/html": [
       "Run data is saved locally in <code>/content/wandb/run-20231208_210713-fayps7ri</code>"
      ],
      "text/plain": [
       "<IPython.core.display.HTML object>"
      ]
     },
     "metadata": {},
     "output_type": "display_data"
    },
    {
     "data": {
      "text/html": [
       "Syncing run <strong><a href='https://wandb.ai/mech-interp/che-de-moivre/runs/fayps7ri' target=\"_blank\">n2_m2</a></strong> to <a href='https://wandb.ai/mech-interp/che-de-moivre' target=\"_blank\">Weights & Biases</a> (<a href='https://wandb.me/run' target=\"_blank\">docs</a>)<br/>"
      ],
      "text/plain": [
       "<IPython.core.display.HTML object>"
      ]
     },
     "metadata": {},
     "output_type": "display_data"
    },
    {
     "data": {
      "text/html": [
       " View project at <a href='https://wandb.ai/mech-interp/che-de-moivre' target=\"_blank\">https://wandb.ai/mech-interp/che-de-moivre</a>"
      ],
      "text/plain": [
       "<IPython.core.display.HTML object>"
      ]
     },
     "metadata": {},
     "output_type": "display_data"
    },
    {
     "data": {
      "text/html": [
       " View run at <a href='https://wandb.ai/mech-interp/che-de-moivre/runs/fayps7ri' target=\"_blank\">https://wandb.ai/mech-interp/che-de-moivre/runs/fayps7ri</a>"
      ],
      "text/plain": [
       "<IPython.core.display.HTML object>"
      ]
     },
     "metadata": {},
     "output_type": "display_data"
    },
    {
     "data": {
      "application/vnd.jupyter.widget-view+json": {
       "model_id": "27490e7facaa4d7c86dff493bab717fc",
       "version_major": 2,
       "version_minor": 0
      },
      "text/plain": [
       "  0%|          | 0/25000 [00:00<?, ?it/s]"
      ]
     },
     "metadata": {},
     "output_type": "display_data"
    },
    {
     "name": "stdout",
     "output_type": "stream",
     "text": [
      "Epoch 99 Train Loss 1.1804968645610244e-07 Test Loss 0.0026157716015886017\n",
      "Epoch 199 Train Loss 1.1720470331939241e-07 Test Loss 0.002274474476108938\n",
      "Epoch 299 Train Loss 1.1642004576821244e-07 Test Loss 0.001978709908284308\n",
      "Epoch 399 Train Loss 1.1569867450761769e-07 Test Loss 0.0017055389282963852\n",
      "Epoch 499 Train Loss 1.1505368005560726e-07 Test Loss 0.0014811182773534826\n",
      "Epoch 599 Train Loss 1.144692469538946e-07 Test Loss 0.0012583383808791274\n",
      "Epoch 699 Train Loss 1.1397415504969457e-07 Test Loss 0.0010094688176496976\n",
      "Epoch 799 Train Loss 1.1352557915513958e-07 Test Loss 0.0007764373759762595\n",
      "Epoch 899 Train Loss 1.1313712599345676e-07 Test Loss 0.0006033905612545604\n",
      "Epoch 999 Train Loss 1.1281622579162458e-07 Test Loss 0.0004995810466663374\n",
      "Epoch 1099 Train Loss 1.1250476538474728e-07 Test Loss 0.00044427692354995565\n",
      "Epoch 1199 Train Loss 1.1216682236333195e-07 Test Loss 0.00043189546313319847\n",
      "Epoch 1299 Train Loss 1.1183874271505745e-07 Test Loss 0.0004472555810164871\n",
      "Epoch 1399 Train Loss 1.1147061361594459e-07 Test Loss 0.000488004331917383\n",
      "Epoch 1499 Train Loss 1.1109605583961781e-07 Test Loss 0.0005325106422584405\n",
      "Epoch 1599 Train Loss 1.1072747841273361e-07 Test Loss 0.0005640026491930026\n",
      "Epoch 1699 Train Loss 1.1032167555874892e-07 Test Loss 0.0005955480733089177\n",
      "Epoch 1799 Train Loss 1.0986072445303577e-07 Test Loss 0.0006323658966253162\n",
      "Epoch 1899 Train Loss 1.0936957763331573e-07 Test Loss 0.0006802325330883114\n",
      "Epoch 1999 Train Loss 1.0887467089838136e-07 Test Loss 0.0007248784301411258\n",
      "Epoch 2099 Train Loss 1.084387573832682e-07 Test Loss 0.0007633157855490529\n",
      "Epoch 2199 Train Loss 1.0803445248052409e-07 Test Loss 0.0007722885139677849\n",
      "Epoch 2299 Train Loss 1.0766546726314957e-07 Test Loss 0.0007582267495242833\n",
      "Epoch 2399 Train Loss 1.0735306653814914e-07 Test Loss 0.000710855853471544\n",
      "Epoch 2499 Train Loss 1.0707288343819629e-07 Test Loss 0.0006603711435260109\n",
      "Epoch 2599 Train Loss 1.0686016402931636e-07 Test Loss 0.0006120442180007086\n",
      "Epoch 2699 Train Loss 1.0665558905764856e-07 Test Loss 0.0005645955252630296\n",
      "Epoch 2799 Train Loss 1.0646087523250819e-07 Test Loss 0.0005344740946809923\n",
      "Epoch 2899 Train Loss 1.0626099316432265e-07 Test Loss 0.0005094493439119687\n",
      "Epoch 2999 Train Loss 1.0604877148943586e-07 Test Loss 0.0004907633601243007\n",
      "Epoch 3099 Train Loss 1.0591857755141366e-07 Test Loss 0.0004993468913541334\n",
      "Epoch 3199 Train Loss 1.0577713367285934e-07 Test Loss 0.0005200735239183652\n",
      "Epoch 3299 Train Loss 1.0563233055185715e-07 Test Loss 0.0005404429573634457\n",
      "Epoch 3399 Train Loss 1.0549492027392723e-07 Test Loss 0.0005554632491367364\n",
      "Epoch 3499 Train Loss 1.0536480143442182e-07 Test Loss 0.0005728724776022547\n",
      "Epoch 3599 Train Loss 1.0522887763117879e-07 Test Loss 0.0005949286219395656\n",
      "Epoch 3699 Train Loss 1.0512638042483724e-07 Test Loss 0.0006150987049820709\n",
      "Epoch 3799 Train Loss 1.0502657717626871e-07 Test Loss 0.0006346992467733806\n",
      "Epoch 3899 Train Loss 1.0491726009015444e-07 Test Loss 0.0006374760716184837\n",
      "Epoch 3999 Train Loss 1.0481922594011429e-07 Test Loss 0.0006338699543921277\n",
      "Epoch 4099 Train Loss 1.0471784570259018e-07 Test Loss 0.000633097055448538\n",
      "Epoch 4199 Train Loss 1.0464528550682751e-07 Test Loss 0.0006336883058487848\n",
      "Epoch 4299 Train Loss 1.0457665370238462e-07 Test Loss 0.0006318934586448839\n",
      "Epoch 4399 Train Loss 1.0449554333443121e-07 Test Loss 0.00063118695795901\n",
      "Epoch 4499 Train Loss 1.0441983938995986e-07 Test Loss 0.0006375883880468488\n",
      "Epoch 4599 Train Loss 1.0433569300881863e-07 Test Loss 0.0006363994605766038\n",
      "Epoch 4699 Train Loss 1.0426398659515399e-07 Test Loss 0.0006312486067443211\n",
      "Epoch 4799 Train Loss 1.0419194580797635e-07 Test Loss 0.0006190049525843746\n",
      "Epoch 4899 Train Loss 1.0412753602047974e-07 Test Loss 0.0006067594259306002\n",
      "Epoch 4999 Train Loss 1.0405880326003928e-07 Test Loss 0.000598686887149009\n",
      "Epoch 5099 Train Loss 1.0399110988455672e-07 Test Loss 0.0005856012507019483\n",
      "Epoch 5199 Train Loss 1.039230968782841e-07 Test Loss 0.0005773797505241675\n",
      "Epoch 5299 Train Loss 1.038670876073225e-07 Test Loss 0.0005573798361539762\n",
      "Epoch 5399 Train Loss 1.0381013319586936e-07 Test Loss 0.0005342266633473473\n",
      "Epoch 5499 Train Loss 1.0374413967245443e-07 Test Loss 0.0005216265619430973\n",
      "Epoch 5599 Train Loss 1.0368393147241498e-07 Test Loss 0.0005157638529611752\n",
      "Epoch 5699 Train Loss 1.0362259395598736e-07 Test Loss 0.0005114648064735588\n",
      "Epoch 5799 Train Loss 1.0356577689289339e-07 Test Loss 0.0005093991667867158\n",
      "Epoch 5899 Train Loss 1.0351445847689423e-07 Test Loss 0.0005124021015058979\n",
      "Epoch 5999 Train Loss 1.0346476893792948e-07 Test Loss 0.0005187462059284013\n",
      "Epoch 6099 Train Loss 1.0341779832682778e-07 Test Loss 0.0005357502663405025\n",
      "Epoch 6199 Train Loss 1.033655763903242e-07 Test Loss 0.0005551831853188731\n",
      "Epoch 6299 Train Loss 1.0331530943279173e-07 Test Loss 0.000572576510868779\n",
      "Epoch 6399 Train Loss 1.0326143605368961e-07 Test Loss 0.0005915106249842276\n",
      "Epoch 6499 Train Loss 1.0321576680395956e-07 Test Loss 0.0006150461819766823\n",
      "Epoch 6599 Train Loss 1.0317143148728223e-07 Test Loss 0.0006446044618512969\n",
      "Epoch 6699 Train Loss 1.0313191417593662e-07 Test Loss 0.0006777728919203704\n",
      "Epoch 6799 Train Loss 1.0309118484702962e-07 Test Loss 0.0007192328422399582\n",
      "Epoch 6899 Train Loss 1.0305830816896169e-07 Test Loss 0.0007690390628852699\n",
      "Epoch 6999 Train Loss 1.0301316432902087e-07 Test Loss 0.0008192128678440002\n",
      "Epoch 7099 Train Loss 1.0297386386496834e-07 Test Loss 0.0008809266440665458\n",
      "Epoch 7199 Train Loss 1.0292933311897393e-07 Test Loss 0.0009499667720298556\n",
      "Epoch 7299 Train Loss 1.0289594112944818e-07 Test Loss 0.0010227044457513568\n",
      "Epoch 7399 Train Loss 1.0285997194797432e-07 Test Loss 0.001094735092692572\n",
      "Epoch 7499 Train Loss 1.0282418019397291e-07 Test Loss 0.0011691891130246532\n",
      "Epoch 7599 Train Loss 1.0278842975122196e-07 Test Loss 0.0012481771546662133\n",
      "Epoch 7699 Train Loss 1.0275041147876805e-07 Test Loss 0.0013195681805137935\n",
      "Epoch 7799 Train Loss 1.0271237168807816e-07 Test Loss 0.001403173816795358\n",
      "Epoch 7899 Train Loss 1.0267187395140057e-07 Test Loss 0.0014860857458314388\n",
      "Epoch 7999 Train Loss 1.026385347708665e-07 Test Loss 0.001571518072695707\n",
      "Epoch 8099 Train Loss 1.0259769822510011e-07 Test Loss 0.0016516648980912103\n",
      "Epoch 8199 Train Loss 1.0256967410934412e-07 Test Loss 0.0017335339007351909\n",
      "Epoch 8299 Train Loss 1.0254528036632073e-07 Test Loss 0.0018058573011026935\n",
      "Epoch 8399 Train Loss 1.0249561827767292e-07 Test Loss 0.001897829528762485\n",
      "Epoch 8499 Train Loss 1.024535317806238e-07 Test Loss 0.002002082971517551\n",
      "Epoch 8599 Train Loss 1.0242830680185505e-07 Test Loss 0.0020860382519942737\n",
      "Epoch 8699 Train Loss 1.0239593874503237e-07 Test Loss 0.002154990763409871\n",
      "Epoch 8799 Train Loss 1.0236840082283504e-07 Test Loss 0.002240345099497373\n",
      "Epoch 8899 Train Loss 1.0233777301112531e-07 Test Loss 0.002323882953810874\n",
      "Epoch 8999 Train Loss 1.0231144650647367e-07 Test Loss 0.0024164530600974767\n",
      "Epoch 9099 Train Loss 1.0227986522952704e-07 Test Loss 0.002531248556881772\n",
      "Epoch 9199 Train Loss 1.0224465883392054e-07 Test Loss 0.0026695638874793836\n",
      "Epoch 9299 Train Loss 1.0221592468126354e-07 Test Loss 0.0027485258172866953\n",
      "Epoch 9399 Train Loss 1.021903358235421e-07 Test Loss 0.00280121832655976\n",
      "Epoch 9499 Train Loss 1.0215694618916422e-07 Test Loss 0.0028298022037289714\n",
      "Epoch 9599 Train Loss 1.0213129483394998e-07 Test Loss 0.0028499188254505355\n",
      "Epoch 9699 Train Loss 1.0210684930185014e-07 Test Loss 0.0028582050240563615\n",
      "Epoch 9799 Train Loss 1.0207610111938149e-07 Test Loss 0.0028588174793989056\n",
      "Epoch 9899 Train Loss 1.020431866450204e-07 Test Loss 0.0028565281903049095\n",
      "Epoch 9999 Train Loss 1.0200344880756244e-07 Test Loss 0.0028768167882284104\n",
      "Epoch 10099 Train Loss 1.0197946779088738e-07 Test Loss 0.002881041443176271\n",
      "Epoch 10199 Train Loss 1.0194147710676004e-07 Test Loss 0.0028843976414880765\n",
      "Epoch 10299 Train Loss 1.0192462294664279e-07 Test Loss 0.0028757561976894583\n",
      "Epoch 10399 Train Loss 1.0188589101641357e-07 Test Loss 0.0028751781958341518\n",
      "Epoch 10499 Train Loss 1.0186057365539076e-07 Test Loss 0.002860138964988938\n",
      "Epoch 10599 Train Loss 1.0183332906569364e-07 Test Loss 0.00284157013191094\n",
      "Epoch 10699 Train Loss 1.0179759373913592e-07 Test Loss 0.0028267426810239344\n",
      "Epoch 10799 Train Loss 1.0176142832163448e-07 Test Loss 0.0028284345318742546\n",
      "Epoch 10899 Train Loss 1.0172822136041505e-07 Test Loss 0.002832294515514662\n",
      "Epoch 10999 Train Loss 1.0169922363247346e-07 Test Loss 0.002833453593171691\n",
      "Epoch 11099 Train Loss 1.0166828340217299e-07 Test Loss 0.0028056941634856643\n",
      "Epoch 11199 Train Loss 1.0164150119151232e-07 Test Loss 0.002775051947485597\n",
      "Epoch 11299 Train Loss 1.0161458570520501e-07 Test Loss 0.002763955352904382\n",
      "Epoch 11399 Train Loss 1.0158996811100654e-07 Test Loss 0.002763094236293994\n",
      "Epoch 11499 Train Loss 1.0156300524536187e-07 Test Loss 0.002766372005864003\n",
      "Epoch 11599 Train Loss 1.0153868125411261e-07 Test Loss 0.0027607184149378667\n",
      "Epoch 11699 Train Loss 1.0151232547957281e-07 Test Loss 0.0027555900896671284\n",
      "Epoch 11799 Train Loss 1.014887425094871e-07 Test Loss 0.002755502137833782\n",
      "Epoch 11899 Train Loss 1.014637119028217e-07 Test Loss 0.002752546338570707\n",
      "Epoch 11999 Train Loss 1.0144443698524094e-07 Test Loss 0.002756256733820798\n",
      "Epoch 12099 Train Loss 1.0141831120306812e-07 Test Loss 0.0027667505654393005\n",
      "Epoch 12199 Train Loss 1.0139237526917093e-07 Test Loss 0.0027891962602061404\n",
      "Epoch 12299 Train Loss 1.0136642292622503e-07 Test Loss 0.0027982884435347227\n",
      "Epoch 12399 Train Loss 1.0134301570314047e-07 Test Loss 0.0028077336068683847\n",
      "Epoch 12499 Train Loss 1.0131766064493997e-07 Test Loss 0.0028147819738402646\n",
      "Epoch 12599 Train Loss 1.012938900361077e-07 Test Loss 0.0028263462053299553\n",
      "Epoch 12699 Train Loss 1.0127088572416773e-07 Test Loss 0.0028207839558509274\n",
      "Epoch 12799 Train Loss 1.0124815513605333e-07 Test Loss 0.0028157970079120223\n",
      "Epoch 12899 Train Loss 1.0122307478719932e-07 Test Loss 0.002811768709892011\n",
      "Epoch 12999 Train Loss 1.0120030924185754e-07 Test Loss 0.0027997848367356903\n",
      "Epoch 13099 Train Loss 1.0117670700288923e-07 Test Loss 0.002787623495238382\n",
      "Epoch 13199 Train Loss 1.0115105736617048e-07 Test Loss 0.0027782581037553928\n",
      "Epoch 13299 Train Loss 1.0112156069398611e-07 Test Loss 0.0027732571996919157\n",
      "Epoch 13399 Train Loss 1.010987810784168e-07 Test Loss 0.0027774095638645854\n",
      "Epoch 13499 Train Loss 1.0107533289997068e-07 Test Loss 0.002797259923124809\n",
      "Epoch 13599 Train Loss 1.0104403541752795e-07 Test Loss 0.002817278341825261\n",
      "Epoch 13699 Train Loss 1.0102259970313619e-07 Test Loss 0.0028383532117731924\n",
      "Epoch 13799 Train Loss 1.0100242093007947e-07 Test Loss 0.0028710227207585084\n",
      "Epoch 13899 Train Loss 1.0098219666758812e-07 Test Loss 0.00291618405422117\n",
      "Epoch 13999 Train Loss 1.0095805963650452e-07 Test Loss 0.0029516725185208493\n",
      "Epoch 14099 Train Loss 1.0093478668783886e-07 Test Loss 0.0029885684987667064\n",
      "Epoch 14199 Train Loss 1.0091323433601461e-07 Test Loss 0.003027315116605658\n",
      "Epoch 14299 Train Loss 1.0089130773437631e-07 Test Loss 0.0030808304571743584\n",
      "Epoch 14399 Train Loss 1.0086534829855625e-07 Test Loss 0.003141362957449163\n",
      "Epoch 14499 Train Loss 1.0084154100131854e-07 Test Loss 0.0032082796733195846\n",
      "Epoch 14599 Train Loss 1.0081724653146745e-07 Test Loss 0.003281690152418334\n",
      "Epoch 14699 Train Loss 1.0079264692272341e-07 Test Loss 0.003362418608585612\n",
      "Epoch 14799 Train Loss 1.0076286551342915e-07 Test Loss 0.0034545034232254224\n",
      "Epoch 14899 Train Loss 1.0073931111053242e-07 Test Loss 0.0035545878272795666\n",
      "Epoch 14999 Train Loss 1.0071547350805126e-07 Test Loss 0.003663230133807074\n",
      "Epoch 15099 Train Loss 1.0069772594279333e-07 Test Loss 0.003782996798951726\n",
      "Epoch 15199 Train Loss 1.0066487418326901e-07 Test Loss 0.003925199379892297\n",
      "Epoch 15299 Train Loss 1.0064294799922766e-07 Test Loss 0.004069149818466753\n",
      "Epoch 15399 Train Loss 1.0062040473184993e-07 Test Loss 0.00421954197181664\n",
      "Epoch 15499 Train Loss 1.0059809563122265e-07 Test Loss 0.0043763630776709915\n",
      "Epoch 15599 Train Loss 1.0057212640503603e-07 Test Loss 0.004535496599629963\n",
      "Epoch 15699 Train Loss 1.0054676512961445e-07 Test Loss 0.0047052406502076346\n",
      "Epoch 15799 Train Loss 1.0051990199964318e-07 Test Loss 0.0049015249133050965\n",
      "Epoch 15899 Train Loss 1.004971699316308e-07 Test Loss 0.005100855349419289\n",
      "Epoch 15999 Train Loss 1.004736154884429e-07 Test Loss 0.005293998090451192\n",
      "Epoch 16099 Train Loss 1.0044986631453275e-07 Test Loss 0.005495872152378133\n",
      "Epoch 16199 Train Loss 1.0043011065469994e-07 Test Loss 0.005697812970207596\n",
      "Epoch 16299 Train Loss 1.0041118671514817e-07 Test Loss 0.005904708087789392\n",
      "Epoch 16399 Train Loss 1.0038801799696657e-07 Test Loss 0.006119702927547708\n",
      "Epoch 16499 Train Loss 1.0036882377202324e-07 Test Loss 0.006338686768592845\n",
      "Epoch 16599 Train Loss 1.0034305447694022e-07 Test Loss 0.006574247181507949\n",
      "Epoch 16699 Train Loss 1.0032030906246451e-07 Test Loss 0.006797711830610647\n",
      "Epoch 16799 Train Loss 1.003005433966526e-07 Test Loss 0.00702195713941614\n",
      "Epoch 16899 Train Loss 1.002799977092209e-07 Test Loss 0.007230545111964622\n",
      "Epoch 16999 Train Loss 1.0026014480941408e-07 Test Loss 0.007457046531024917\n",
      "Epoch 17099 Train Loss 1.0023713113189456e-07 Test Loss 0.00768302076054316\n",
      "Epoch 17199 Train Loss 1.0021305843248671e-07 Test Loss 0.007935466405845165\n",
      "Epoch 17299 Train Loss 1.0018965670241668e-07 Test Loss 0.008186098180903958\n",
      "Epoch 17399 Train Loss 1.0016162927634303e-07 Test Loss 0.008433941122584394\n",
      "Epoch 17499 Train Loss 1.0013878809433211e-07 Test Loss 0.008686489757125267\n",
      "Epoch 17599 Train Loss 1.0011830393129453e-07 Test Loss 0.008931023936739087\n",
      "Epoch 17699 Train Loss 1.0009545089767877e-07 Test Loss 0.009155563929159054\n",
      "Epoch 17799 Train Loss 1.0005961118615386e-07 Test Loss 0.009386730069148053\n",
      "Epoch 17899 Train Loss 1.0002484899294607e-07 Test Loss 0.009597809869949191\n",
      "Epoch 17999 Train Loss 9.999907033152533e-08 Test Loss 0.00985919053706519\n",
      "Epoch 18099 Train Loss 9.997096115194483e-08 Test Loss 0.010144831727955876\n",
      "Epoch 18199 Train Loss 9.994519692735364e-08 Test Loss 0.010419333609913447\n",
      "Epoch 18299 Train Loss 9.991383005473046e-08 Test Loss 0.010705831296012122\n",
      "Epoch 18399 Train Loss 9.987733910222418e-08 Test Loss 0.01108411295450276\n",
      "Epoch 18499 Train Loss 9.983784345291767e-08 Test Loss 0.011392137180406103\n",
      "Epoch 18599 Train Loss 9.979826983504313e-08 Test Loss 0.011745480512461194\n",
      "Epoch 18699 Train Loss 9.975626792794177e-08 Test Loss 0.012086364649513367\n",
      "Epoch 18799 Train Loss 9.971260271044221e-08 Test Loss 0.012459185521433516\n",
      "Epoch 18899 Train Loss 9.966069978394911e-08 Test Loss 0.012858258806721697\n",
      "Epoch 18999 Train Loss 9.960022943592542e-08 Test Loss 0.013265194777636316\n",
      "Epoch 19099 Train Loss 9.954835344470415e-08 Test Loss 0.01367963233066946\n",
      "Epoch 19199 Train Loss 9.948108294088846e-08 Test Loss 0.014131271688521223\n",
      "Epoch 19299 Train Loss 9.939918791812254e-08 Test Loss 0.014587272753809739\n",
      "Epoch 19399 Train Loss 9.931986444826792e-08 Test Loss 0.015080335297027705\n",
      "Epoch 19499 Train Loss 9.92243367142651e-08 Test Loss 0.015587213319599998\n",
      "Epoch 19599 Train Loss 9.91296889335436e-08 Test Loss 0.01607849747238726\n",
      "Epoch 19699 Train Loss 9.902121176465901e-08 Test Loss 0.01658455219997442\n",
      "Epoch 19799 Train Loss 9.890983441901773e-08 Test Loss 0.01706492004278576\n",
      "Epoch 19899 Train Loss 9.876768265465384e-08 Test Loss 0.0176267080233157\n",
      "Epoch 19999 Train Loss 9.864295459689178e-08 Test Loss 0.01824284447462668\n",
      "Epoch 20099 Train Loss 9.852830022541667e-08 Test Loss 0.018825677218318845\n",
      "Epoch 20199 Train Loss 9.840519468708293e-08 Test Loss 0.01938151011478893\n",
      "Epoch 20299 Train Loss 9.82777533779713e-08 Test Loss 0.019899432422858715\n",
      "Epoch 20399 Train Loss 9.815035209667683e-08 Test Loss 0.020376726510336902\n"
     ]
    },
    {
     "ename": "KeyboardInterrupt",
     "evalue": "ignored",
     "output_type": "error",
     "traceback": [
      "\u001b[0;31m---------------------------------------------------------------------------\u001b[0m",
      "\u001b[0;31mKeyboardInterrupt\u001b[0m                         Traceback (most recent call last)",
      "\u001b[0;32m<ipython-input-70-3d917c86dd20>\u001b[0m in \u001b[0;36m<cell line: 5>\u001b[0;34m()\u001b[0m\n\u001b[1;32m     17\u001b[0m \u001b[0;34m\u001b[0m\u001b[0m\n\u001b[1;32m     18\u001b[0m         \u001b[0;32mwith\u001b[0m \u001b[0mtorch\u001b[0m\u001b[0;34m.\u001b[0m\u001b[0minference_mode\u001b[0m\u001b[0;34m(\u001b[0m\u001b[0;34m)\u001b[0m\u001b[0;34m:\u001b[0m\u001b[0;34m\u001b[0m\u001b[0;34m\u001b[0m\u001b[0m\n\u001b[0;32m---> 19\u001b[0;31m             \u001b[0mtest_logits\u001b[0m \u001b[0;34m=\u001b[0m \u001b[0mmodel\u001b[0m\u001b[0;34m(\u001b[0m\u001b[0mtest_data\u001b[0m\u001b[0;34m)\u001b[0m\u001b[0;34m\u001b[0m\u001b[0;34m\u001b[0m\u001b[0m\n\u001b[0m\u001b[1;32m     20\u001b[0m             \u001b[0mtest_loss\u001b[0m \u001b[0;34m=\u001b[0m \u001b[0mloss_fn\u001b[0m\u001b[0;34m(\u001b[0m\u001b[0mtest_logits\u001b[0m\u001b[0;34m,\u001b[0m \u001b[0mtest_labels\u001b[0m\u001b[0;34m)\u001b[0m\u001b[0;34m\u001b[0m\u001b[0;34m\u001b[0m\u001b[0m\n\u001b[1;32m     21\u001b[0m             \u001b[0mtest_losses\u001b[0m\u001b[0;34m.\u001b[0m\u001b[0mappend\u001b[0m\u001b[0;34m(\u001b[0m\u001b[0mtest_loss\u001b[0m\u001b[0;34m.\u001b[0m\u001b[0mitem\u001b[0m\u001b[0;34m(\u001b[0m\u001b[0;34m)\u001b[0m\u001b[0;34m)\u001b[0m\u001b[0;34m\u001b[0m\u001b[0;34m\u001b[0m\u001b[0m\n",
      "\u001b[0;32m/usr/local/lib/python3.10/dist-packages/torch/nn/modules/module.py\u001b[0m in \u001b[0;36m_wrapped_call_impl\u001b[0;34m(self, *args, **kwargs)\u001b[0m\n\u001b[1;32m   1516\u001b[0m             \u001b[0;32mreturn\u001b[0m \u001b[0mself\u001b[0m\u001b[0;34m.\u001b[0m\u001b[0m_compiled_call_impl\u001b[0m\u001b[0;34m(\u001b[0m\u001b[0;34m*\u001b[0m\u001b[0margs\u001b[0m\u001b[0;34m,\u001b[0m \u001b[0;34m**\u001b[0m\u001b[0mkwargs\u001b[0m\u001b[0;34m)\u001b[0m  \u001b[0;31m# type: ignore[misc]\u001b[0m\u001b[0;34m\u001b[0m\u001b[0;34m\u001b[0m\u001b[0m\n\u001b[1;32m   1517\u001b[0m         \u001b[0;32melse\u001b[0m\u001b[0;34m:\u001b[0m\u001b[0;34m\u001b[0m\u001b[0;34m\u001b[0m\u001b[0m\n\u001b[0;32m-> 1518\u001b[0;31m             \u001b[0;32mreturn\u001b[0m \u001b[0mself\u001b[0m\u001b[0;34m.\u001b[0m\u001b[0m_call_impl\u001b[0m\u001b[0;34m(\u001b[0m\u001b[0;34m*\u001b[0m\u001b[0margs\u001b[0m\u001b[0;34m,\u001b[0m \u001b[0;34m**\u001b[0m\u001b[0mkwargs\u001b[0m\u001b[0;34m)\u001b[0m\u001b[0;34m\u001b[0m\u001b[0;34m\u001b[0m\u001b[0m\n\u001b[0m\u001b[1;32m   1519\u001b[0m \u001b[0;34m\u001b[0m\u001b[0m\n\u001b[1;32m   1520\u001b[0m     \u001b[0;32mdef\u001b[0m \u001b[0m_call_impl\u001b[0m\u001b[0;34m(\u001b[0m\u001b[0mself\u001b[0m\u001b[0;34m,\u001b[0m \u001b[0;34m*\u001b[0m\u001b[0margs\u001b[0m\u001b[0;34m,\u001b[0m \u001b[0;34m**\u001b[0m\u001b[0mkwargs\u001b[0m\u001b[0;34m)\u001b[0m\u001b[0;34m:\u001b[0m\u001b[0;34m\u001b[0m\u001b[0;34m\u001b[0m\u001b[0m\n",
      "\u001b[0;32m/usr/local/lib/python3.10/dist-packages/torch/nn/modules/module.py\u001b[0m in \u001b[0;36m_call_impl\u001b[0;34m(self, *args, **kwargs)\u001b[0m\n\u001b[1;32m   1525\u001b[0m                 \u001b[0;32mor\u001b[0m \u001b[0m_global_backward_pre_hooks\u001b[0m \u001b[0;32mor\u001b[0m \u001b[0m_global_backward_hooks\u001b[0m\u001b[0;34m\u001b[0m\u001b[0;34m\u001b[0m\u001b[0m\n\u001b[1;32m   1526\u001b[0m                 or _global_forward_hooks or _global_forward_pre_hooks):\n\u001b[0;32m-> 1527\u001b[0;31m             \u001b[0;32mreturn\u001b[0m \u001b[0mforward_call\u001b[0m\u001b[0;34m(\u001b[0m\u001b[0;34m*\u001b[0m\u001b[0margs\u001b[0m\u001b[0;34m,\u001b[0m \u001b[0;34m**\u001b[0m\u001b[0mkwargs\u001b[0m\u001b[0;34m)\u001b[0m\u001b[0;34m\u001b[0m\u001b[0;34m\u001b[0m\u001b[0m\n\u001b[0m\u001b[1;32m   1528\u001b[0m \u001b[0;34m\u001b[0m\u001b[0m\n\u001b[1;32m   1529\u001b[0m         \u001b[0;32mtry\u001b[0m\u001b[0;34m:\u001b[0m\u001b[0;34m\u001b[0m\u001b[0;34m\u001b[0m\u001b[0m\n",
      "\u001b[0;32m/usr/local/lib/python3.10/dist-packages/transformer_lens/HookedTransformer.py\u001b[0m in \u001b[0;36mforward\u001b[0;34m(self, input, return_type, loss_per_token, prepend_bos, padding_side, start_at_layer, tokens, shortformer_pos_embed, attention_mask, stop_at_layer, past_kv_cache)\u001b[0m\n\u001b[1;32m    547\u001b[0m                 \u001b[0;31m# residual + block(residual)\u001b[0m\u001b[0;34m\u001b[0m\u001b[0;34m\u001b[0m\u001b[0m\n\u001b[1;32m    548\u001b[0m                 \u001b[0;31m# If we're using multiple GPUs, we need to send the residual and shortformer_pos_embed to the correct GPU\u001b[0m\u001b[0;34m\u001b[0m\u001b[0;34m\u001b[0m\u001b[0m\n\u001b[0;32m--> 549\u001b[0;31m                 \u001b[0mresidual\u001b[0m \u001b[0;34m=\u001b[0m \u001b[0mresidual\u001b[0m\u001b[0;34m.\u001b[0m\u001b[0mto\u001b[0m\u001b[0;34m(\u001b[0m\u001b[0mdevices\u001b[0m\u001b[0;34m.\u001b[0m\u001b[0mget_device_for_block_index\u001b[0m\u001b[0;34m(\u001b[0m\u001b[0mi\u001b[0m\u001b[0;34m,\u001b[0m \u001b[0mself\u001b[0m\u001b[0;34m.\u001b[0m\u001b[0mcfg\u001b[0m\u001b[0;34m)\u001b[0m\u001b[0;34m)\u001b[0m\u001b[0;34m\u001b[0m\u001b[0;34m\u001b[0m\u001b[0m\n\u001b[0m\u001b[1;32m    550\u001b[0m                 \u001b[0;32mif\u001b[0m \u001b[0mshortformer_pos_embed\u001b[0m \u001b[0;32mis\u001b[0m \u001b[0;32mnot\u001b[0m \u001b[0;32mNone\u001b[0m\u001b[0;34m:\u001b[0m\u001b[0;34m\u001b[0m\u001b[0;34m\u001b[0m\u001b[0m\n\u001b[1;32m    551\u001b[0m                     shortformer_pos_embed = shortformer_pos_embed.to(\n",
      "\u001b[0;31mKeyboardInterrupt\u001b[0m: "
     ]
    }
   ],
   "source": [
    "train_losses = []\n",
    "test_losses = []\n",
    "model_checkpoints = []\n",
    "checkpoint_epochs = []\n",
    "if TRAIN_MODEL:\n",
    "\n",
    "    wandb.init(project=\"che-de-moivre\", name=\"n2_m2\")\n",
    "\n",
    "    for epoch in tqdm.tqdm(range(num_epochs)):\n",
    "        train_logits = model(train_data)\n",
    "        train_loss = loss_fn(train_logits, train_labels)\n",
    "        train_loss.backward()\n",
    "        train_losses.append(train_loss.item())\n",
    "\n",
    "        optimizer.step()\n",
    "        optimizer.zero_grad()\n",
    "\n",
    "        with torch.inference_mode():\n",
    "            test_logits = model(test_data)\n",
    "            test_loss = loss_fn(test_logits, test_labels)\n",
    "            test_losses.append(test_loss.item())\n",
    "\n",
    "        if ((epoch+1)%checkpoint_every)==0:\n",
    "            checkpoint_epochs.append(epoch)\n",
    "            model_checkpoints.append(copy.deepcopy(model.state_dict()))\n",
    "            print(f\"Epoch {epoch} Train Loss {train_loss.item()} Test Loss {test_loss.item()}\")\n",
    "\n",
    "            wandb.log({\n",
    "            \"train_loss\": train_loss.item(),\n",
    "            \"test_loss\": test_loss.item(),\n",
    "            \"train_logit\": train_logits,\n",
    "            \"test_logit\": test_logits,\n",
    "            })\n",
    "\n",
    "            # weights\n",
    "            for name, param in model.named_parameters():\n",
    "                    wandb.log({f\"weights_{name}\": wandb.Histogram(param.data.cpu().numpy())})"
   ]
  },
  {
   "cell_type": "markdown",
   "metadata": {
    "id": "3aSaCfwGBolz"
   },
   "source": [
    "## Check if model groks"
   ]
  },
  {
   "cell_type": "code",
   "execution_count": null,
   "metadata": {
    "id": "LXckGGhiBolz"
   },
   "outputs": [],
   "source": [
    "from neel_plotly.plot import line\n",
    "line([train_losses[::100], test_losses[::100]], x=np.arange(0, len(train_losses), 100), xaxis=\"Epoch\", yaxis=\"Loss\", log_y=False, title=\"Training Curve for Modular Addition\", line_labels=['train loss', 'test loss'], toggle_x=True, toggle_y=True)"
   ]
  },
  {
   "cell_type": "markdown",
   "metadata": {
    "id": "pkg2Zcf9Bolz"
   },
   "source": [
    "# Analysing the Model"
   ]
  },
  {
   "cell_type": "markdown",
   "metadata": {
    "id": "fF5_IqEKBol4"
   },
   "source": [
    "Get key weight matrices:"
   ]
  },
  {
   "cell_type": "code",
   "execution_count": null,
   "metadata": {
    "id": "Y_Qb040kBol4"
   },
   "outputs": [],
   "source": [
    "W_E = model.embed.W_E[:-1]\n",
    "print(\"W_E\", W_E.shape)\n",
    "W_neur = W_E @ model.blocks[0].attn.W_V @ model.blocks[0].attn.W_O @ model.blocks[0].mlp.W_in\n",
    "print(\"W_neur\", W_neur.shape)\n",
    "W_logit = model.blocks[0].mlp.W_out.to('cuda:0') @ model.unembed.W_U.to('cuda:0')\n",
    "print(\"W_logit\", W_logit.shape)"
   ]
  },
  {
   "cell_type": "markdown",
   "metadata": {
    "id": "fSkicfVrBol4"
   },
   "source": [
    "### Looking at Activations"
   ]
  },
  {
   "cell_type": "markdown",
   "metadata": {
    "id": "N8aSSFr8Bol4"
   },
   "source": [
    "Helper variable:"
   ]
  },
  {
   "cell_type": "code",
   "execution_count": null,
   "metadata": {
    "id": "FvLDAyb5Bol5"
   },
   "outputs": [],
   "source": [
    "original_logits, cache = model.run_with_cache(dataset)\n",
    "pattern_a = cache[\"pattern\", 0, \"attn\"][:, :, -1, 0]\n",
    "pattern_b = cache[\"pattern\", 0, \"attn\"][:, :, -1, 1]\n",
    "neuron_acts = cache[\"post\", 0, \"mlp\"][:, -1, :]\n",
    "neuron_pre_acts = cache[\"pre\", 0, \"mlp\"][:, -1, :]"
   ]
  },
  {
   "cell_type": "markdown",
   "metadata": {
    "id": "rP7_8xR8Bol5"
   },
   "source": [
    "Model architecture:"
   ]
  },
  {
   "cell_type": "code",
   "execution_count": null,
   "metadata": {
    "id": "BaINncisBol5"
   },
   "outputs": [],
   "source": [
    "for param_name, param in cache.items():\n",
    "    print(param_name, param.shape)"
   ]
  },
  {
   "cell_type": "code",
   "execution_count": null,
   "metadata": {
    "id": "GXgFoqwYBol5"
   },
   "outputs": [],
   "source": [
    "imshow(cache[\"pattern\", 0].mean(dim=0)[:, -1, :], title=\"Average Attention Pattern per Head\", xaxis=\"Source\", yaxis=\"Head\", x=['a', 'b', '='])"
   ]
  },
  {
   "cell_type": "code",
   "execution_count": null,
   "metadata": {
    "id": "0RtlmBisBol5"
   },
   "outputs": [],
   "source": [
    "imshow(cache[\"pattern\", 0][5][:, -1, :], title=\"Average Attention Pattern per Head\", xaxis=\"Source\", yaxis=\"Head\", x=['a', 'b', '='])"
   ]
  },
  {
   "cell_type": "code",
   "execution_count": null,
   "metadata": {
    "id": "MVJhXpRkBol6"
   },
   "outputs": [],
   "source": [
    "imshow(\n",
    "    einops.rearrange(cache[\"pattern\", 0][:, :, -1, 0], \"(a b) head -> head a b\", a=p, b=p),\n",
    "    title=\"Attention for Head 0 from a -> =\", xaxis=\"b\", yaxis=\"a\", facet_col=0)"
   ]
  },
  {
   "cell_type": "code",
   "execution_count": null,
   "metadata": {
    "id": "FtwC4iinBol6"
   },
   "outputs": [],
   "source": [
    "imshow(\n",
    "    einops.rearrange(neuron_acts[:, :5], \"(a b) neuron -> neuron a b\", a=p, b=p),\n",
    "    title=\"First 5 neuron activations\", xaxis=\"b\", yaxis=\"a\", facet_col=0)"
   ]
  },
  {
   "cell_type": "markdown",
   "metadata": {
    "id": "xttFmPYVBol7"
   },
   "source": [
    "### Singular Value Decomposition"
   ]
  },
  {
   "cell_type": "code",
   "execution_count": null,
   "metadata": {
    "id": "a5zVoPxvBol7"
   },
   "outputs": [],
   "source": [
    "U, S, Vh = torch.svd(W_E)\n",
    "line(S, title=\"Singular Values\")\n",
    "imshow(U, title=\"Principal Components on the Input\")"
   ]
  },
  {
   "cell_type": "code",
   "execution_count": null,
   "metadata": {
    "id": "LRo-HyRWBol7"
   },
   "outputs": [],
   "source": [
    "# Control - random Gaussian matrix\n",
    "U, S, Vh = torch.svd(torch.randn_like(W_E))\n",
    "line(S, title=\"Singular Values Random\")\n",
    "imshow(U, title=\"Principal Components Random\")"
   ]
  },
  {
   "cell_type": "markdown",
   "metadata": {
    "id": "C2qoU0K5Bol7"
   },
   "source": [
    "## Explaining Algorithm"
   ]
  },
  {
   "cell_type": "markdown",
   "metadata": {
    "id": "5XYJvJArBol7"
   },
   "source": [
    "### Analyse the Embedding"
   ]
  },
  {
   "cell_type": "code",
   "execution_count": null,
   "metadata": {
    "id": "DH6bC4NxBol7"
   },
   "outputs": [],
   "source": [
    "U, S, Vh = torch.svd(W_E)\n",
    "line(U[:, :8].T, title=\"Principal Components of the embedding\", xaxis=\"Input Vocabulary\")"
   ]
  },
  {
   "cell_type": "code",
   "execution_count": null,
   "metadata": {
    "id": "RlUHO49tBol7"
   },
   "outputs": [],
   "source": [
    "fourier_basis = []\n",
    "fourier_basis_names = []\n",
    "fourier_basis.append(torch.ones(p))\n",
    "fourier_basis_names.append(\"Constant\")\n",
    "for freq in range(1, p//2+1):\n",
    "    fourier_basis.append(torch.sin(torch.arange(p)*2 * torch.pi * freq / p))\n",
    "    fourier_basis_names.append(f\"Sin {freq}\")\n",
    "    fourier_basis.append(torch.cos(torch.arange(p)*2 * torch.pi * freq / p))\n",
    "    fourier_basis_names.append(f\"Cos {freq}\")\n",
    "fourier_basis = torch.stack(fourier_basis, dim=0).cuda()\n",
    "fourier_basis = fourier_basis/fourier_basis.norm(dim=-1, keepdim=True)\n",
    "\n",
    "line(fourier_basis[:8], xaxis=\"Input\", line_labels=fourier_basis_names[:8], title=\"First 8 Fourier Components\")\n",
    "line(fourier_basis[25:29], xaxis=\"Input\", line_labels=fourier_basis_names[25:29], title=\"Middle Fourier Components\")"
   ]
  },
  {
   "cell_type": "code",
   "execution_count": null,
   "metadata": {
    "id": "o7rcOORgBol8"
   },
   "outputs": [],
   "source": [
    "imshow(fourier_basis @ fourier_basis.T, title=\"Verify All Fourier Vectors are Orthogonal\")"
   ]
  },
  {
   "cell_type": "markdown",
   "metadata": {
    "id": "yZBpXGFZBol8"
   },
   "source": [
    "### Analyse the Embedding"
   ]
  },
  {
   "cell_type": "code",
   "execution_count": null,
   "metadata": {
    "id": "BjUgCvjjBol8"
   },
   "outputs": [],
   "source": [
    "imshow(fourier_basis @ W_E, yaxis=\"Fourier Component\", xaxis=\"Residual Stream\", y=fourier_basis_names, title=\"Embedding in Fourier Basis\")"
   ]
  },
  {
   "cell_type": "code",
   "execution_count": null,
   "metadata": {
    "id": "Jp9tV69rBol8"
   },
   "outputs": [],
   "source": [
    "line((fourier_basis @ W_E).norm(dim=-1), xaxis=\"Fourier Component\", x=fourier_basis_names, title=\"Norms of Embedding in Fourier Basis\")"
   ]
  },
  {
   "cell_type": "markdown",
   "metadata": {
    "id": "LOwRmxTc-ai3"
   },
   "source": [
    " Key Frequencies: Models might not utilize the same frequencies even with exact settings. Adjust this according to the plot above for a meaningful ablation (progress measure evaluation).  "
   ]
  },
  {
   "cell_type": "code",
   "execution_count": null,
   "metadata": {
    "id": "qeCah1mkBol8"
   },
   "outputs": [],
   "source": [
    "key_freqs = list(range(1, 57))"
   ]
  },
  {
   "cell_type": "markdown",
   "metadata": {
    "id": "oVh-1-9ZBol9"
   },
   "source": [
    "## Analyse Neurons"
   ]
  },
  {
   "cell_type": "code",
   "execution_count": null,
   "metadata": {
    "id": "EV_oobpPBol9"
   },
   "outputs": [],
   "source": [
    "imshow(\n",
    "    einops.rearrange(neuron_acts[:, :5], \"(a b) neuron -> neuron a b\", a=p, b=p),\n",
    "    title=\"First 5 neuron acts\", xaxis=\"b\", yaxis=\"a\", facet_col=0)"
   ]
  },
  {
   "cell_type": "markdown",
   "metadata": {
    "id": "MPpgAkLbBol-"
   },
   "source": [
    "### Neuron Clusters"
   ]
  },
  {
   "cell_type": "code",
   "execution_count": null,
   "metadata": {
    "id": "gwAIITLfBol-"
   },
   "outputs": [],
   "source": [
    "fourier_neuron_acts = fourier_basis @ einops.rearrange(neuron_acts, \"(a b) neuron -> neuron a b\", a=p, b=p) @ fourier_basis.T\n",
    "# Center these by removing the mean\n",
    "fourier_neuron_acts[:, 0, 0] = 0.\n",
    "print(\"fourier_neuron_acts\", fourier_neuron_acts.shape)"
   ]
  },
  {
   "cell_type": "code",
   "execution_count": null,
   "metadata": {
    "id": "bI2WAa6PBol-"
   },
   "outputs": [],
   "source": [
    "neuron_freq_norm = torch.zeros(p//2, model.cfg.d_mlp).cuda()\n",
    "for freq in range(0, p//2):\n",
    "    for x in [0, 2*(freq+1) - 1, 2*(freq+1)]:\n",
    "        for y in [0, 2*(freq+1) - 1, 2*(freq+1)]:\n",
    "            neuron_freq_norm[freq] += fourier_neuron_acts[:, x, y]**2\n",
    "neuron_freq_norm = neuron_freq_norm / fourier_neuron_acts.pow(2).sum(dim=[-1, -2])[None, :]\n",
    "imshow(neuron_freq_norm, xaxis=\"Neuron\", yaxis=\"Freq\", y=torch.arange(1, p//2+1), title=\"Neuron Frac Explained by Freq\")"
   ]
  },
  {
   "cell_type": "code",
   "execution_count": null,
   "metadata": {
    "id": "W8Xdz96kBol-",
    "scrolled": true
   },
   "outputs": [],
   "source": [
    "line(neuron_freq_norm.max(dim=0).values.sort().values, xaxis=\"Neuron\", title=\"Max Neuron Frac Explained over Freqs\")"
   ]
  },
  {
   "cell_type": "markdown",
   "metadata": {
    "id": "_gXo-IMgBol_"
   },
   "source": [
    "# Progress Measures"
   ]
  },
  {
   "cell_type": "markdown",
   "metadata": {
    "id": "RRREeHO0Bol_"
   },
   "source": [
    "## Setup Code"
   ]
  },
  {
   "cell_type": "markdown",
   "metadata": {
    "id": "knzxZCifBomA"
   },
   "source": [
    "Code to run a metric over every checkpoint"
   ]
  },
  {
   "cell_type": "code",
   "execution_count": null,
   "metadata": {
    "id": "catHIkOsBomA"
   },
   "outputs": [],
   "source": [
    "metric_cache = {}\n",
    "\n",
    "def get_metrics(model, metric_cache, metric_fn, name, reset=False):\n",
    "    if reset or (name not in metric_cache) or (len(metric_cache[name]) == 0):\n",
    "        metric_cache[name] = []\n",
    "\n",
    "        for c, sd in enumerate(tqdm.tqdm((model_checkpoints))):\n",
    "            model.reset_hooks()\n",
    "            model.load_state_dict(sd)\n",
    "            out = metric_fn(model)\n",
    "\n",
    "            if type(out) == torch.Tensor:\n",
    "                out = utils.to_numpy(out)\n",
    "            metric_cache[name].append(out)\n",
    "        model.load_state_dict(model_checkpoints[-1])\n",
    "        try:\n",
    "            metric_cache[name] = torch.tensor(metric_cache[name])\n",
    "        except:\n",
    "            metric_cache[name] = torch.tensor(np.array(metric_cache[name]))"
   ]
  },
  {
   "cell_type": "markdown",
   "metadata": {
    "id": "pS7W2EccBomA"
   },
   "source": [
    "### Loss Curves"
   ]
  },
  {
   "cell_type": "markdown",
   "metadata": {
    "id": "IudeNYYOt25J"
   },
   "source": [
    "Adjust vertical lines accordingly"
   ]
  },
  {
   "cell_type": "code",
   "execution_count": null,
   "metadata": {
    "id": "fteEG4ewBomB"
   },
   "outputs": [],
   "source": [
    "memorization_end_epoch = 1500\n",
    "circuit_formation_end_epoch = 13300\n",
    "cleanup_end_epoch = 16600"
   ]
  },
  {
   "cell_type": "code",
   "execution_count": null,
   "metadata": {
    "id": "wcDnycr0BomB"
   },
   "outputs": [],
   "source": [
    "fig = line([train_losses[::100], test_losses[::100]], x=np.arange(0, len(train_losses), 100), xaxis=\"Epoch\", yaxis=\"Loss\", log_y=False, title=\"Training Curve for Modular Addition\", line_labels=['train', 'test'], toggle_x=True, toggle_y=True, return_fig=True)\n",
    "add_lines(fig)"
   ]
  },
  {
   "cell_type": "markdown",
   "metadata": {
    "id": "Jx_uT6IwBomB"
   },
   "source": [
    "### Logit Periodicity"
   ]
  },
  {
   "cell_type": "code",
   "execution_count": null,
   "metadata": {
    "id": "jKbW-X1KBomB"
   },
   "outputs": [],
   "source": [
    "all_logits = original_logits[:, -1, :]\n",
    "print(all_logits.shape)\n",
    "all_logits = einops.rearrange(all_logits, \"(a b) c -> a b c\", a=p, b=p)\n",
    "print(all_logits.shape)"
   ]
  },
  {
   "cell_type": "markdown",
   "metadata": {
    "id": "7SS6zG5PYJGF"
   },
   "source": [
    "#### Getting predicted logits by each key frequencies"
   ]
  },
  {
   "cell_type": "code",
   "execution_count": null,
   "metadata": {
    "id": "6kifKlaOBomB"
   },
   "outputs": [],
   "source": [
    "coses = {}\n",
    "for freq in key_freqs:\n",
    "    #print(\"Freq:\", freq)\n",
    "    a = torch.arange(p)[:, None, None]\n",
    "    b = torch.arange(p)[None, :, None]\n",
    "    c = torch.arange(p)[None, None, :]\n",
    "    cube_predicted_logits = torch.cos(freq * 2 * torch.pi / p * (a + b - c)).cuda()\n",
    "    cube_predicted_logits /= cube_predicted_logits.norm()\n",
    "    coses[freq] = cube_predicted_logits"
   ]
  },
  {
   "cell_type": "markdown",
   "metadata": {
    "id": "mdZIWa6ZYfC3"
   },
   "source": [
    "#### Cosine Similarity: A metric evaluating how well predicted logits are explained by each key frequencies"
   ]
  },
  {
   "cell_type": "code",
   "execution_count": null,
   "metadata": {
    "id": "Lk8Rh5DsBomB"
   },
   "outputs": [],
   "source": [
    "approximated_logits = torch.zeros_like(all_logits)\n",
    "for freq in key_freqs:\n",
    "    print(\"Freq:\", freq)\n",
    "    coeff = (all_logits.to('cuda:0') * coses[freq].to('cuda:0')).sum()\n",
    "    print(\"Coeff:\", coeff)\n",
    "    cosine_sim = coeff.to('cuda:0') / all_logits.to('cuda:0').norm()\n",
    "    print(\"Cosine Sim:\", cosine_sim)\n",
    "    approximated_logits = approximated_logits.to('cuda:0')\n",
    "    approximated_logits += coeff.to('cuda:0') * coses[freq]\n",
    "residual = all_logits.to('cuda:0') - approximated_logits.to('cuda:0')\n",
    "print(\"Residual size:\", residual.norm())\n",
    "print(\"Residual fraction of norm:\", residual.to('cuda:0').norm()/all_logits.to('cuda:0').norm())"
   ]
  },
  {
   "cell_type": "markdown",
   "metadata": {
    "id": "F0iKHTc5abgZ"
   },
   "source": [
    "#### Cosine Similarity on a random vector"
   ]
  },
  {
   "cell_type": "code",
   "execution_count": null,
   "metadata": {
    "id": "4aypJAX4Zzh7"
   },
   "outputs": [],
   "source": [
    "random_logit_cube = torch.randn_like(all_logits)\n",
    "print((all_logits * random_logit_cube).sum() / random_logit_cube.norm()/all_logits.norm())"
   ]
  },
  {
   "cell_type": "markdown",
   "metadata": {
    "id": "TuYKLHExBomC"
   },
   "source": [
    "#### Look During Training"
   ]
  },
  {
   "cell_type": "code",
   "execution_count": null,
   "metadata": {
    "id": "G5QuFtEhbzKs"
   },
   "outputs": [],
   "source": [
    "cos_cube = []\n",
    "for freq in range(1, p//2 + 1):\n",
    "    a = torch.arange(p)[:, None, None]\n",
    "    b = torch.arange(p)[None, :, None]\n",
    "    c = torch.arange(p)[None, None, :]\n",
    "    cube_predicted_logits = torch.cos(freq * 2 * torch.pi / p * (a + b - c)).cuda()\n",
    "    cube_predicted_logits /= cube_predicted_logits.norm()\n",
    "    cos_cube.append(cube_predicted_logits)\n",
    "cos_cube = torch.stack(cos_cube, dim=0)\n",
    "print(cos_cube.shape)"
   ]
  },
  {
   "cell_type": "code",
   "execution_count": null,
   "metadata": {
    "id": "MyvykGYQb1z5"
   },
   "outputs": [],
   "source": [
    "def get_cos_coeffs(model):\n",
    "    logits = model(dataset)[:, -1]\n",
    "    logits = einops.rearrange(logits, \"(a b) c -> a b c\", a=p, b=p)\n",
    "    vals = (cos_cube * logits[None, :, :, :]).sum([-3, -2, -1])\n",
    "    return vals\n",
    "\n",
    "\n",
    "get_metrics(model, metric_cache, get_cos_coeffs, \"cos_coeffs\")\n",
    "print(metric_cache[\"cos_coeffs\"].shape)"
   ]
  },
  {
   "cell_type": "code",
   "execution_count": null,
   "metadata": {
    "id": "FEufZN8Eb7Ry"
   },
   "outputs": [],
   "source": [
    "fig = line(metric_cache[\"cos_coeffs\"].T, line_labels=[f\"Freq {i}\" for i in range(1, p//2+1)], title=\"Coefficients with Predicted Logits\", xaxis=\"Epoch\", x=checkpoint_epochs, yaxis=\"Coefficient\", return_fig=True)\n",
    "add_lines(fig)"
   ]
  },
  {
   "cell_type": "code",
   "execution_count": null,
   "metadata": {
    "id": "N7Z0BUuQgYX-"
   },
   "outputs": [],
   "source": [
    "def get_cos_sim(model):\n",
    "    logits = model(dataset)[:, -1]\n",
    "    logits = einops.rearrange(logits, \"(a b) c -> a b c\", a=p, b=p)\n",
    "    vals = (cos_cube * logits[None, :, :, :]).sum([-3, -2, -1])\n",
    "    return vals / logits.norm()"
   ]
  },
  {
   "cell_type": "markdown",
   "metadata": {
    "id": "dNImOeEZwM1q"
   },
   "source": [
    "Run this  cell again if graph not shown"
   ]
  },
  {
   "cell_type": "code",
   "execution_count": null,
   "metadata": {
    "id": "TXZlxd0chIJQ"
   },
   "outputs": [],
   "source": [
    "get_metrics(model, metric_cache, get_cos_sim, \"cos_sim\")\n",
    "fig = line(metric_cache[\"cos_sim\"].T, line_labels=[f\"Freq {i}\" for i in range(1, p//2+1)], title=\"Cosine Sim with Predicted Logits\", xaxis=\"Epoch\", x=checkpoint_epochs, yaxis=\"Cosine Sim\", return_fig=True)\n",
    "add_lines(fig)"
   ]
  },
  {
   "cell_type": "code",
   "execution_count": null,
   "metadata": {
    "id": "KBxPBJDug4_Z"
   },
   "outputs": [],
   "source": [
    "def get_residual_cos_sim(model):\n",
    "    logits = model(dataset)[:, -1]\n",
    "    logits = einops.rearrange(logits, \"(a b) c -> a b c\", a=p, b=p)\n",
    "    vals = (cos_cube * logits[None, :, :, :]).sum([-3, -2, -1])\n",
    "    residual = logits - (vals[:, None, None, None] * cos_cube).sum(dim=0)\n",
    "    return residual.norm() / logits.norm()"
   ]
  },
  {
   "cell_type": "markdown",
   "metadata": {
    "id": "XBCg7zGCwUj-"
   },
   "source": [
    "Run this cell again if graph not shown"
   ]
  },
  {
   "cell_type": "code",
   "execution_count": null,
   "metadata": {
    "id": "NffJgj0fhDVJ"
   },
   "outputs": [],
   "source": [
    "get_metrics(model, metric_cache, get_residual_cos_sim, \"residual_cos_sim\")\n",
    "fig = line([metric_cache[\"cos_sim\"][:, i] for i in range(p//2)]+[metric_cache[\"residual_cos_sim\"]], line_labels=[f\"Freq {i}\" for i in range(1, p//2+1)]+[\"residual\"], title=\"Cosine Sim with Predicted Logits + Residual\", xaxis=\"Epoch\", x=checkpoint_epochs, yaxis=\"Cosine Sim\", return_fig=True)\n",
    "add_lines(fig)"
   ]
  },
  {
   "cell_type": "markdown",
   "metadata": {
    "id": "94tTNdcZBomD"
   },
   "source": [
    "## Fourier Norms of neuron activations"
   ]
  },
  {
   "cell_type": "code",
   "execution_count": null,
   "metadata": {
    "id": "bLFKR0DHBomD"
   },
   "outputs": [],
   "source": [
    "neuron_acts_square = einops.rearrange(neuron_acts, \"(a b) neur -> a b neur\", a=p, b=p).clone()\n",
    "# Center it\n",
    "neuron_acts_square -= einops.reduce(neuron_acts_square, \"a b neur -> 1 1 neur\", \"mean\")\n",
    "neuron_acts_square_fourier = einsum(\"a b neur, fa a, fb b -> fa fb neur\", neuron_acts_square, fourier_basis, fourier_basis)\n",
    "imshow(neuron_acts_square_fourier.norm(dim=-1), xaxis=\"Fourier Component b\", yaxis=\"Fourier Component a\", title=\"Norms of neuron activations by Fourier Component\", x=fourier_basis_names, y=fourier_basis_names)"
   ]
  },
  {
   "cell_type": "code",
   "execution_count": null,
   "metadata": {
    "id": "7bOBAVDgxYfL"
   },
   "outputs": [],
   "source": [
    "imshow(\n",
    "    neuron_acts_square_fourier.norm(dim=-1)[1:, 1:],\n",
    "    xaxis=\"Fourier Component b\",\n",
    "    yaxis=\"Fourier Component a\",\n",
    "    title=\"Norms of neuron activations by Fourier Component Excluding Constant\",\n",
    "    x=fourier_basis_names[1:],\n",
    "    y=fourier_basis_names[1:]\n",
    ")"
   ]
  },
  {
   "cell_type": "markdown",
   "metadata": {
    "id": "INUz70m9BomI"
   },
   "source": [
    "## Excluded Loss"
   ]
  },
  {
   "cell_type": "code",
   "execution_count": null,
   "metadata": {
    "id": "7mBJ4SIXBomI"
   },
   "outputs": [],
   "source": [
    "approx_neuron_acts = torch.zeros_like(neuron_acts)\n",
    "# approx_neuron_acts += neuron_acts.mean(dim=0)\n",
    "a = torch.arange(p)[:, None]\n",
    "b = torch.arange(p)[None, :]\n",
    "for freq in key_freqs:\n",
    "    cos_apb_vec = torch.cos(freq * 2 * torch.pi / p * (a + b)).cuda()\n",
    "    cos_apb_vec /= cos_apb_vec.norm()\n",
    "    cos_apb_vec = einops.rearrange(cos_apb_vec, \"a b -> (a b) 1\")\n",
    "    approx_neuron_acts += (neuron_acts * cos_apb_vec).sum(dim=0) * cos_apb_vec\n",
    "    sin_apb_vec = torch.sin(freq * 2 * torch.pi / p * (a + b)).cuda()\n",
    "    sin_apb_vec /= sin_apb_vec.norm()\n",
    "    sin_apb_vec = einops.rearrange(sin_apb_vec, \"a b -> (a b) 1\")\n",
    "    approx_neuron_acts += (neuron_acts * sin_apb_vec).sum(dim=0) * sin_apb_vec\n",
    "excluded_neuron_acts = neuron_acts - approx_neuron_acts\n",
    "excluded_logits = excluded_neuron_acts @ W_logit\n",
    "print(loss_fn(excluded_logits[train_indices], train_labels))"
   ]
  },
  {
   "cell_type": "markdown",
   "metadata": {
    "id": "n7blFGnY6wQ_"
   },
   "source": [
    "We found empirically that for m=n where n is a fixed positive even integer, the models always learn to only utilize cosine frequencies, even with different hyperparameters. Uncomment the sine part if you're interested in ablating sine frequencies too"
   ]
  },
  {
   "cell_type": "code",
   "execution_count": null,
   "metadata": {
    "id": "GZPiq9YlBomI"
   },
   "outputs": [],
   "source": [
    "def get_excluded_loss(model):\n",
    "    logits, cache = model.run_with_cache(dataset)\n",
    "    logits = logits[:, -1, :]\n",
    "    neuron_acts = cache[\"post\", 0, \"mlp\"][:, -1, :]\n",
    "    approx_neuron_acts = torch.zeros_like(neuron_acts)\n",
    "    # approx_neuron_acts += neuron_acts.mean(dim=0)\n",
    "    a = torch.arange(p)[:, None]\n",
    "    b = torch.arange(p)[None, :]\n",
    "    for freq in key_freqs:\n",
    "        cos_apb_vec = torch.cos(freq * 2 * torch.pi / p * (a + b)).cuda()\n",
    "        cos_apb_vec /= cos_apb_vec.norm()\n",
    "        cos_apb_vec = einops.rearrange(cos_apb_vec, \"a b -> (a b) 1\")\n",
    "        approx_neuron_acts += (neuron_acts * cos_apb_vec).sum(dim=0) * cos_apb_vec\n",
    "\n",
    "        cos_apb_vec = torch.cos(freq * 2 * torch.pi / p * (a + b)).cuda()\n",
    "        cos_apb_vec /= cos_apb_vec.norm()\n",
    "        cos_apb_vec = einops.rearrange(cos_apb_vec, \"a b -> (a b) 1\")\n",
    "        approx_neuron_acts += (neuron_acts * cos_apb_vec).sum(dim=0) * cos_apb_vec\n",
    "        \"\"\"\n",
    "        sin_apb_vec = torch.sin(freq * 2 * torch.pi / p * (a + b)).cuda()\n",
    "        sin_apb_vec /= sin_apb_vec.norm()\n",
    "        sin_apb_vec = einops.rearrange(sin_apb_vec, \"a b -> (a b) 1\")\n",
    "        approx_neuron_acts += (neuron_acts * sin_apb_vec).sum(dim=0) * sin_apb_vec\n",
    "        \"\"\"\n",
    "    excluded_neuron_acts = neuron_acts - approx_neuron_acts\n",
    "    residual_stream_final = excluded_neuron_acts @ model.blocks[0].mlp.W_out + cache[\"resid_mid\", 0][:, -1, :]\n",
    "    excluded_logits = residual_stream_final @ model.unembed.W_U\n",
    "    excluded_loss = loss_fn(excluded_logits[train_indices], train_labels)\n",
    "\n",
    "    wandb.log({\n",
    "            \"excluded_logits\":excluded_logits,\n",
    "            \"excluded_loss\": excluded_loss\n",
    "            })\n",
    "    return excluded_loss\n",
    "get_excluded_loss(model)"
   ]
  },
  {
   "cell_type": "code",
   "execution_count": null,
   "metadata": {
    "id": "fcwtD0pXBomJ"
   },
   "outputs": [],
   "source": [
    "get_metrics(model, metric_cache, get_excluded_loss, \"excluded_loss\", reset=True)\n",
    "print(metric_cache[\"excluded_loss\"].shape)"
   ]
  },
  {
   "cell_type": "code",
   "execution_count": null,
   "metadata": {
    "id": "-rO67bMVG6l0"
   },
   "outputs": [],
   "source": [
    "wandb.finish()"
   ]
  },
  {
   "cell_type": "markdown",
   "metadata": {
    "id": "1_gRplmt70N_"
   },
   "source": [
    "Excluded Loss : Train Loss with ablation"
   ]
  },
  {
   "cell_type": "code",
   "execution_count": null,
   "metadata": {
    "id": "ZKFZoZCKBomJ"
   },
   "outputs": [],
   "source": [
    "fig = line([train_losses[::100], test_losses[::100], metric_cache[\"excluded_loss\"]], x=np.arange(0, len(train_losses), 100), xaxis=\"Epoch\", yaxis=\"Loss\", log_y=True, title=\"Excluded Loss Curve\", line_labels=['train', 'test', \"excluded_loss\"], toggle_x=True, toggle_y=True, return_fig=True)\n",
    "\n",
    "add_lines(fig)"
   ]
  }
 ],
 "metadata": {
  "accelerator": "GPU",
  "colab": {
   "gpuType": "T4",
   "provenance": []
  },
  "kernelspec": {
   "display_name": "Python 3",
   "language": "python",
   "name": "python3"
  },
  "language_info": {
   "codemirror_mode": {
    "name": "ipython",
    "version": 3
   },
   "file_extension": ".py",
   "mimetype": "text/x-python",
   "name": "python",
   "nbconvert_exporter": "python",
   "pygments_lexer": "ipython3",
   "version": "3.8.8"
  },
  "vscode": {
   "interpreter": {
    "hash": "8859a5491331dba93123a91c2831400aced845b502848170e05fcb48b2c144be"
   }
  },
  "widgets": {
   "application/vnd.jupyter.widget-state+json": {
    "0997987684744ceca99c6843ed0aafb4": {
     "model_module": "@jupyter-widgets/base",
     "model_module_version": "1.2.0",
     "model_name": "LayoutModel",
     "state": {
      "_model_module": "@jupyter-widgets/base",
      "_model_module_version": "1.2.0",
      "_model_name": "LayoutModel",
      "_view_count": null,
      "_view_module": "@jupyter-widgets/base",
      "_view_module_version": "1.2.0",
      "_view_name": "LayoutView",
      "align_content": null,
      "align_items": null,
      "align_self": null,
      "border": null,
      "bottom": null,
      "display": null,
      "flex": null,
      "flex_flow": null,
      "grid_area": null,
      "grid_auto_columns": null,
      "grid_auto_flow": null,
      "grid_auto_rows": null,
      "grid_column": null,
      "grid_gap": null,
      "grid_row": null,
      "grid_template_areas": null,
      "grid_template_columns": null,
      "grid_template_rows": null,
      "height": null,
      "justify_content": null,
      "justify_items": null,
      "left": null,
      "margin": null,
      "max_height": null,
      "max_width": null,
      "min_height": null,
      "min_width": null,
      "object_fit": null,
      "object_position": null,
      "order": null,
      "overflow": null,
      "overflow_x": null,
      "overflow_y": null,
      "padding": null,
      "right": null,
      "top": null,
      "visibility": null,
      "width": null
     }
    },
    "27490e7facaa4d7c86dff493bab717fc": {
     "model_module": "@jupyter-widgets/controls",
     "model_module_version": "1.5.0",
     "model_name": "HBoxModel",
     "state": {
      "_dom_classes": [],
      "_model_module": "@jupyter-widgets/controls",
      "_model_module_version": "1.5.0",
      "_model_name": "HBoxModel",
      "_view_count": null,
      "_view_module": "@jupyter-widgets/controls",
      "_view_module_version": "1.5.0",
      "_view_name": "HBoxView",
      "box_style": "",
      "children": [
       "IPY_MODEL_f8391df67bff49718d8d4730831e334e",
       "IPY_MODEL_dcd78d99a30446afb58a620ce0462b2e",
       "IPY_MODEL_cddb46a940b84ac29b8257548fb392b6"
      ],
      "layout": "IPY_MODEL_0997987684744ceca99c6843ed0aafb4"
     }
    },
    "3249b5f8f7fb47938ef13e54534d5ec8": {
     "model_module": "@jupyter-widgets/controls",
     "model_module_version": "1.5.0",
     "model_name": "ProgressStyleModel",
     "state": {
      "_model_module": "@jupyter-widgets/controls",
      "_model_module_version": "1.5.0",
      "_model_name": "ProgressStyleModel",
      "_view_count": null,
      "_view_module": "@jupyter-widgets/base",
      "_view_module_version": "1.2.0",
      "_view_name": "StyleView",
      "bar_color": null,
      "description_width": ""
     }
    },
    "3bdaac1f2f5b48659a33f7d47758cdce": {
     "model_module": "@jupyter-widgets/controls",
     "model_module_version": "1.5.0",
     "model_name": "FloatProgressModel",
     "state": {
      "_dom_classes": [],
      "_model_module": "@jupyter-widgets/controls",
      "_model_module_version": "1.5.0",
      "_model_name": "FloatProgressModel",
      "_view_count": null,
      "_view_module": "@jupyter-widgets/controls",
      "_view_module_version": "1.5.0",
      "_view_name": "ProgressView",
      "bar_style": "",
      "description": "",
      "description_tooltip": null,
      "layout": "IPY_MODEL_da18c6adac354c92b18e75a116d1259b",
      "max": 1,
      "min": 0,
      "orientation": "horizontal",
      "style": "IPY_MODEL_8b5bc4c82831447185581a649b7feb24",
      "value": 1
     }
    },
    "3dfa73806db8462a88d35ff985ab5e66": {
     "model_module": "@jupyter-widgets/controls",
     "model_module_version": "1.5.0",
     "model_name": "DescriptionStyleModel",
     "state": {
      "_model_module": "@jupyter-widgets/controls",
      "_model_module_version": "1.5.0",
      "_model_name": "DescriptionStyleModel",
      "_view_count": null,
      "_view_module": "@jupyter-widgets/base",
      "_view_module_version": "1.2.0",
      "_view_name": "StyleView",
      "description_width": ""
     }
    },
    "4da152588fb4417ba142a07e1bcd0b17": {
     "model_module": "@jupyter-widgets/base",
     "model_module_version": "1.2.0",
     "model_name": "LayoutModel",
     "state": {
      "_model_module": "@jupyter-widgets/base",
      "_model_module_version": "1.2.0",
      "_model_name": "LayoutModel",
      "_view_count": null,
      "_view_module": "@jupyter-widgets/base",
      "_view_module_version": "1.2.0",
      "_view_name": "LayoutView",
      "align_content": null,
      "align_items": null,
      "align_self": null,
      "border": null,
      "bottom": null,
      "display": null,
      "flex": null,
      "flex_flow": null,
      "grid_area": null,
      "grid_auto_columns": null,
      "grid_auto_flow": null,
      "grid_auto_rows": null,
      "grid_column": null,
      "grid_gap": null,
      "grid_row": null,
      "grid_template_areas": null,
      "grid_template_columns": null,
      "grid_template_rows": null,
      "height": null,
      "justify_content": null,
      "justify_items": null,
      "left": null,
      "margin": null,
      "max_height": null,
      "max_width": null,
      "min_height": null,
      "min_width": null,
      "object_fit": null,
      "object_position": null,
      "order": null,
      "overflow": null,
      "overflow_x": null,
      "overflow_y": null,
      "padding": null,
      "right": null,
      "top": null,
      "visibility": null,
      "width": null
     }
    },
    "6da9c8bf355d4a33befc71bd8a6beded": {
     "model_module": "@jupyter-widgets/controls",
     "model_module_version": "1.5.0",
     "model_name": "VBoxModel",
     "state": {
      "_dom_classes": [],
      "_model_module": "@jupyter-widgets/controls",
      "_model_module_version": "1.5.0",
      "_model_name": "VBoxModel",
      "_view_count": null,
      "_view_module": "@jupyter-widgets/controls",
      "_view_module_version": "1.5.0",
      "_view_name": "VBoxView",
      "box_style": "",
      "children": [
       "IPY_MODEL_b717046101184a72b2b403545e69e986",
       "IPY_MODEL_3bdaac1f2f5b48659a33f7d47758cdce"
      ],
      "layout": "IPY_MODEL_bb80c5245f244b12962f095eab7da612"
     }
    },
    "825390c7e5364c87907fed19c4369727": {
     "model_module": "@jupyter-widgets/base",
     "model_module_version": "1.2.0",
     "model_name": "LayoutModel",
     "state": {
      "_model_module": "@jupyter-widgets/base",
      "_model_module_version": "1.2.0",
      "_model_name": "LayoutModel",
      "_view_count": null,
      "_view_module": "@jupyter-widgets/base",
      "_view_module_version": "1.2.0",
      "_view_name": "LayoutView",
      "align_content": null,
      "align_items": null,
      "align_self": null,
      "border": null,
      "bottom": null,
      "display": null,
      "flex": null,
      "flex_flow": null,
      "grid_area": null,
      "grid_auto_columns": null,
      "grid_auto_flow": null,
      "grid_auto_rows": null,
      "grid_column": null,
      "grid_gap": null,
      "grid_row": null,
      "grid_template_areas": null,
      "grid_template_columns": null,
      "grid_template_rows": null,
      "height": null,
      "justify_content": null,
      "justify_items": null,
      "left": null,
      "margin": null,
      "max_height": null,
      "max_width": null,
      "min_height": null,
      "min_width": null,
      "object_fit": null,
      "object_position": null,
      "order": null,
      "overflow": null,
      "overflow_x": null,
      "overflow_y": null,
      "padding": null,
      "right": null,
      "top": null,
      "visibility": null,
      "width": null
     }
    },
    "8b5bc4c82831447185581a649b7feb24": {
     "model_module": "@jupyter-widgets/controls",
     "model_module_version": "1.5.0",
     "model_name": "ProgressStyleModel",
     "state": {
      "_model_module": "@jupyter-widgets/controls",
      "_model_module_version": "1.5.0",
      "_model_name": "ProgressStyleModel",
      "_view_count": null,
      "_view_module": "@jupyter-widgets/base",
      "_view_module_version": "1.2.0",
      "_view_name": "StyleView",
      "bar_color": null,
      "description_width": ""
     }
    },
    "9157e4b7447c4dbc990402709fe6df22": {
     "model_module": "@jupyter-widgets/base",
     "model_module_version": "1.2.0",
     "model_name": "LayoutModel",
     "state": {
      "_model_module": "@jupyter-widgets/base",
      "_model_module_version": "1.2.0",
      "_model_name": "LayoutModel",
      "_view_count": null,
      "_view_module": "@jupyter-widgets/base",
      "_view_module_version": "1.2.0",
      "_view_name": "LayoutView",
      "align_content": null,
      "align_items": null,
      "align_self": null,
      "border": null,
      "bottom": null,
      "display": null,
      "flex": null,
      "flex_flow": null,
      "grid_area": null,
      "grid_auto_columns": null,
      "grid_auto_flow": null,
      "grid_auto_rows": null,
      "grid_column": null,
      "grid_gap": null,
      "grid_row": null,
      "grid_template_areas": null,
      "grid_template_columns": null,
      "grid_template_rows": null,
      "height": null,
      "justify_content": null,
      "justify_items": null,
      "left": null,
      "margin": null,
      "max_height": null,
      "max_width": null,
      "min_height": null,
      "min_width": null,
      "object_fit": null,
      "object_position": null,
      "order": null,
      "overflow": null,
      "overflow_x": null,
      "overflow_y": null,
      "padding": null,
      "right": null,
      "top": null,
      "visibility": null,
      "width": null
     }
    },
    "b717046101184a72b2b403545e69e986": {
     "model_module": "@jupyter-widgets/controls",
     "model_module_version": "1.5.0",
     "model_name": "LabelModel",
     "state": {
      "_dom_classes": [],
      "_model_module": "@jupyter-widgets/controls",
      "_model_module_version": "1.5.0",
      "_model_name": "LabelModel",
      "_view_count": null,
      "_view_module": "@jupyter-widgets/controls",
      "_view_module_version": "1.5.0",
      "_view_name": "LabelView",
      "description": "",
      "description_tooltip": null,
      "layout": "IPY_MODEL_ffcdffa53e45494591c1d28f78118bb6",
      "placeholder": "​",
      "style": "IPY_MODEL_ce8c507d5bb344eebafb676c7fe3fd55",
      "value": "0.037 MB of 0.037 MB uploaded\r"
     }
    },
    "bb80c5245f244b12962f095eab7da612": {
     "model_module": "@jupyter-widgets/base",
     "model_module_version": "1.2.0",
     "model_name": "LayoutModel",
     "state": {
      "_model_module": "@jupyter-widgets/base",
      "_model_module_version": "1.2.0",
      "_model_name": "LayoutModel",
      "_view_count": null,
      "_view_module": "@jupyter-widgets/base",
      "_view_module_version": "1.2.0",
      "_view_name": "LayoutView",
      "align_content": null,
      "align_items": null,
      "align_self": null,
      "border": null,
      "bottom": null,
      "display": null,
      "flex": null,
      "flex_flow": null,
      "grid_area": null,
      "grid_auto_columns": null,
      "grid_auto_flow": null,
      "grid_auto_rows": null,
      "grid_column": null,
      "grid_gap": null,
      "grid_row": null,
      "grid_template_areas": null,
      "grid_template_columns": null,
      "grid_template_rows": null,
      "height": null,
      "justify_content": null,
      "justify_items": null,
      "left": null,
      "margin": null,
      "max_height": null,
      "max_width": null,
      "min_height": null,
      "min_width": null,
      "object_fit": null,
      "object_position": null,
      "order": null,
      "overflow": null,
      "overflow_x": null,
      "overflow_y": null,
      "padding": null,
      "right": null,
      "top": null,
      "visibility": null,
      "width": null
     }
    },
    "be20a728c7ca450e8c944546b3f49768": {
     "model_module": "@jupyter-widgets/controls",
     "model_module_version": "1.5.0",
     "model_name": "DescriptionStyleModel",
     "state": {
      "_model_module": "@jupyter-widgets/controls",
      "_model_module_version": "1.5.0",
      "_model_name": "DescriptionStyleModel",
      "_view_count": null,
      "_view_module": "@jupyter-widgets/base",
      "_view_module_version": "1.2.0",
      "_view_name": "StyleView",
      "description_width": ""
     }
    },
    "cddb46a940b84ac29b8257548fb392b6": {
     "model_module": "@jupyter-widgets/controls",
     "model_module_version": "1.5.0",
     "model_name": "HTMLModel",
     "state": {
      "_dom_classes": [],
      "_model_module": "@jupyter-widgets/controls",
      "_model_module_version": "1.5.0",
      "_model_name": "HTMLModel",
      "_view_count": null,
      "_view_module": "@jupyter-widgets/controls",
      "_view_module_version": "1.5.0",
      "_view_name": "HTMLView",
      "description": "",
      "description_tooltip": null,
      "layout": "IPY_MODEL_825390c7e5364c87907fed19c4369727",
      "placeholder": "​",
      "style": "IPY_MODEL_3dfa73806db8462a88d35ff985ab5e66",
      "value": " 20456/25000 [08:58&lt;01:59, 37.89it/s]"
     }
    },
    "ce8c507d5bb344eebafb676c7fe3fd55": {
     "model_module": "@jupyter-widgets/controls",
     "model_module_version": "1.5.0",
     "model_name": "DescriptionStyleModel",
     "state": {
      "_model_module": "@jupyter-widgets/controls",
      "_model_module_version": "1.5.0",
      "_model_name": "DescriptionStyleModel",
      "_view_count": null,
      "_view_module": "@jupyter-widgets/base",
      "_view_module_version": "1.2.0",
      "_view_name": "StyleView",
      "description_width": ""
     }
    },
    "da18c6adac354c92b18e75a116d1259b": {
     "model_module": "@jupyter-widgets/base",
     "model_module_version": "1.2.0",
     "model_name": "LayoutModel",
     "state": {
      "_model_module": "@jupyter-widgets/base",
      "_model_module_version": "1.2.0",
      "_model_name": "LayoutModel",
      "_view_count": null,
      "_view_module": "@jupyter-widgets/base",
      "_view_module_version": "1.2.0",
      "_view_name": "LayoutView",
      "align_content": null,
      "align_items": null,
      "align_self": null,
      "border": null,
      "bottom": null,
      "display": null,
      "flex": null,
      "flex_flow": null,
      "grid_area": null,
      "grid_auto_columns": null,
      "grid_auto_flow": null,
      "grid_auto_rows": null,
      "grid_column": null,
      "grid_gap": null,
      "grid_row": null,
      "grid_template_areas": null,
      "grid_template_columns": null,
      "grid_template_rows": null,
      "height": null,
      "justify_content": null,
      "justify_items": null,
      "left": null,
      "margin": null,
      "max_height": null,
      "max_width": null,
      "min_height": null,
      "min_width": null,
      "object_fit": null,
      "object_position": null,
      "order": null,
      "overflow": null,
      "overflow_x": null,
      "overflow_y": null,
      "padding": null,
      "right": null,
      "top": null,
      "visibility": null,
      "width": null
     }
    },
    "dcd78d99a30446afb58a620ce0462b2e": {
     "model_module": "@jupyter-widgets/controls",
     "model_module_version": "1.5.0",
     "model_name": "FloatProgressModel",
     "state": {
      "_dom_classes": [],
      "_model_module": "@jupyter-widgets/controls",
      "_model_module_version": "1.5.0",
      "_model_name": "FloatProgressModel",
      "_view_count": null,
      "_view_module": "@jupyter-widgets/controls",
      "_view_module_version": "1.5.0",
      "_view_name": "ProgressView",
      "bar_style": "danger",
      "description": "",
      "description_tooltip": null,
      "layout": "IPY_MODEL_9157e4b7447c4dbc990402709fe6df22",
      "max": 25000,
      "min": 0,
      "orientation": "horizontal",
      "style": "IPY_MODEL_3249b5f8f7fb47938ef13e54534d5ec8",
      "value": 20456
     }
    },
    "f8391df67bff49718d8d4730831e334e": {
     "model_module": "@jupyter-widgets/controls",
     "model_module_version": "1.5.0",
     "model_name": "HTMLModel",
     "state": {
      "_dom_classes": [],
      "_model_module": "@jupyter-widgets/controls",
      "_model_module_version": "1.5.0",
      "_model_name": "HTMLModel",
      "_view_count": null,
      "_view_module": "@jupyter-widgets/controls",
      "_view_module_version": "1.5.0",
      "_view_name": "HTMLView",
      "description": "",
      "description_tooltip": null,
      "layout": "IPY_MODEL_4da152588fb4417ba142a07e1bcd0b17",
      "placeholder": "​",
      "style": "IPY_MODEL_be20a728c7ca450e8c944546b3f49768",
      "value": " 82%"
     }
    },
    "ffcdffa53e45494591c1d28f78118bb6": {
     "model_module": "@jupyter-widgets/base",
     "model_module_version": "1.2.0",
     "model_name": "LayoutModel",
     "state": {
      "_model_module": "@jupyter-widgets/base",
      "_model_module_version": "1.2.0",
      "_model_name": "LayoutModel",
      "_view_count": null,
      "_view_module": "@jupyter-widgets/base",
      "_view_module_version": "1.2.0",
      "_view_name": "LayoutView",
      "align_content": null,
      "align_items": null,
      "align_self": null,
      "border": null,
      "bottom": null,
      "display": null,
      "flex": null,
      "flex_flow": null,
      "grid_area": null,
      "grid_auto_columns": null,
      "grid_auto_flow": null,
      "grid_auto_rows": null,
      "grid_column": null,
      "grid_gap": null,
      "grid_row": null,
      "grid_template_areas": null,
      "grid_template_columns": null,
      "grid_template_rows": null,
      "height": null,
      "justify_content": null,
      "justify_items": null,
      "left": null,
      "margin": null,
      "max_height": null,
      "max_width": null,
      "min_height": null,
      "min_width": null,
      "object_fit": null,
      "object_position": null,
      "order": null,
      "overflow": null,
      "overflow_x": null,
      "overflow_y": null,
      "padding": null,
      "right": null,
      "top": null,
      "visibility": null,
      "width": null
     }
    }
   }
  }
 },
 "nbformat": 4,
 "nbformat_minor": 1
}
